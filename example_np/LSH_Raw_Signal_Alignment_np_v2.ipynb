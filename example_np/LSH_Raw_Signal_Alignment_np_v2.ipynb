{
 "cells": [
  {
   "cell_type": "markdown",
   "metadata": {},
   "source": [
    "v1 too slow, add for-loop in v2"
   ]
  },
  {
   "cell_type": "code",
   "execution_count": 2,
   "metadata": {},
   "outputs": [],
   "source": [
    "from ont_fast5_api.fast5_interface import get_fast5_file\n",
    "from tqdm import tqdm\n",
    "import matplotlib.pyplot as plt\n",
    "import pickle\n",
    "from uncalled4 import PoreModel, Config, EventDetector, SignalProcessor\n",
    "import numpy as np\n",
    "import pandas as pd\n",
    "\n",
    "import sys\n",
    "import os\n",
    "from pathlib import Path\n",
    "current_dir = Path(os.getcwd())\n",
    "parent_dir = current_dir.parent\n",
    "code_dir = parent_dir / \"code\"\n",
    "sys.path.append(str(code_dir))\n",
    "\n",
    "import sequence_to_signal\n",
    "import cam_search_np\n",
    "from cam_array_np import CAMArray\n",
    "from event_processor import EventProcessor, fast5_id_list\n",
    "from cam_process_np import process_sample\n",
    "from cam_process_np import update_position\n",
    "from cam_process_np import process_location\n",
    "from openpyxl import load_workbook\n",
    "import argparse\n",
    "from pafstats import run, calculate"
   ]
  },
  {
   "cell_type": "markdown",
   "metadata": {},
   "source": [
    "Transfer nucleotide sequence to analog signal according to kmer model"
   ]
  },
  {
   "cell_type": "code",
   "execution_count": 3,
   "metadata": {},
   "outputs": [
    {
     "name": "stderr",
     "output_type": "stream",
     "text": [
      "Processing:   0%|          | 0/29898 [00:00<?, ?iteration/s]"
     ]
    },
    {
     "name": "stderr",
     "output_type": "stream",
     "text": [
      "Processing: 100%|██████████| 29898/29898 [00:00<00:00, 384847.19iteration/s]\n",
      "Processing: 100%|██████████| 29898/29898 [00:00<00:00, 406338.36iteration/s]"
     ]
    },
    {
     "name": "stdout",
     "output_type": "stream",
     "text": [
      "Number of zeros in the list: 28\n"
     ]
    },
    {
     "name": "stderr",
     "output_type": "stream",
     "text": [
      "\n"
     ]
    }
   ],
   "source": [
    "# Read the main sequence\n",
    "main_sequence_path = '../dataset/sarscov2.fna'\n",
    "main_sequences = sequence_to_signal.read_fasta(main_sequence_path)\n",
    "main_sequence_length = sequence_to_signal.get_sequence_length(main_sequence_path)\n",
    "\n",
    "# Read the complement sequence\n",
    "complement_sequence_path = '../dataset/sarscov2_complement_true.fna'\n",
    "complement_sequences = sequence_to_signal.read_fasta(complement_sequence_path)\n",
    "complement_sequence_length = sequence_to_signal.get_sequence_length(complement_sequence_path)\n",
    "\n",
    "# print(f\"Length of main sequence: {main_sequence_length}\")\n",
    "# print(f\"Length of complement sequence: {complement_sequence_length}\")\n",
    "\n",
    "# Define the model file path\n",
    "model_file_path = \"../dataset/kmer_model/template_median68pA.model\" #r94\n",
    "df = sequence_to_signal.load_data(model_file_path)\n",
    "\n",
    "# Retrieve k-mer means and standard deviations for the original reference sequence\n",
    "kmer_means_raw = sequence_to_signal.get_kmer_properties(main_sequences, df)\n",
    "kmer_means = sequence_to_signal.replace_continuous_signal(kmer_means_raw)\n",
    "\n",
    "# Retrieve k-mer means and standard deviations for the complement reference sequence\n",
    "kmer_means_comp_raw = sequence_to_signal.get_kmer_properties(complement_sequences, df)\n",
    "kmer_means_comp = sequence_to_signal.replace_continuous_signal(kmer_means_comp_raw)\n",
    "\n",
    "\n",
    "# print(f\"K-mer means for the original sequence: {kmer_means}, Standard deviation: {kmer_std}\")\n",
    "# print(f\"K-mer means for the complement sequence: {kmer_means_comp}, Standard deviation: {kmer_std_comp}\")\n",
    "zero_count = sequence_to_signal.count_zeros(kmer_means_comp)\n",
    "print(\"Number of zeros in the list:\", zero_count)"
   ]
  },
  {
   "cell_type": "markdown",
   "metadata": {},
   "source": [
    "Load Random RRAM array"
   ]
  },
  {
   "cell_type": "code",
   "execution_count": 4,
   "metadata": {},
   "outputs": [
    {
     "data": {
      "image/png": "[encoded data removed]",
      "text/plain": [
       "<Figure size 432x288 with 2 Axes>"
      ]
     },
     "metadata": {
      "needs_background": "light"
     },
     "output_type": "display_data"
    }
   ],
   "source": [
    "loaded_conductance = np.load('../code/random_conductance/raw_conductance_simulation.npy')\n",
    "fig, ax = plt.subplots()\n",
    "cax = ax.imshow(loaded_conductance*1e6, cmap='viridis')  # 显示图像\n",
    "cbar = fig.colorbar(cax, ax=ax, fraction=0.033, pad=0.05)\n",
    "plt.show()\n",
    "\n",
    "flat_list = loaded_conductance.flatten().tolist()\n",
    "template= flat_list[0:2560]\n",
    "difference_list_raw = [template[i] - template[i + 1] for i in range(0, len(template) - 1, 2)]\n",
    "\n",
    "random_conductance = np.array(difference_list_raw).reshape(10, 128)\n",
    "random_matrix_np = np.asarray(random_conductance).astype(np.float32, copy=False)\n",
    "\n",
    "# fig, ax = plt.subplots()\n",
    "# cax = ax.imshow(random_conductance*1e6, cmap='viridis')\n",
    "# cbar = fig.colorbar(cax, ax=ax, fraction=0.033, pad=0.05)\n",
    "# plt.show()\n"
   ]
  },
  {
   "cell_type": "markdown",
   "metadata": {},
   "source": [
    "Use Random RRAM array to map the analog vector to binary vector; Store the binary vector in CAM Array"
   ]
  },
  {
   "cell_type": "code",
   "execution_count": 5,
   "metadata": {},
   "outputs": [
    {
     "name": "stdout",
     "output_type": "stream",
     "text": [
      "Reference Array Shape: (29888, 10)\n",
      "Reference Comp Array Shape: (29888, 10)\n",
      "Number of complete blocks: 74\n",
      "[[0 0 1 ... 1 0 0]\n",
      " [0 0 0 ... 0 1 1]\n",
      " [0 1 1 ... 0 1 1]\n",
      " ...\n",
      " [0 0 1 ... 1 1 0]\n",
      " [1 1 0 ... 0 1 0]\n",
      " [1 1 1 ... 0 1 0]]\n"
     ]
    }
   ],
   "source": [
    "col = 10\n",
    "LSH_col = 128\n",
    "k = 10\n",
    "sub_array_row = 400\n",
    "\n",
    "cam_processor = CAMArray(col=10, LSH_col=128, k=10, sub_array_row=400,\n",
    "                             kmer_level_means_shift=kmer_means,\n",
    "                             kmer_level_means_shift_comp=kmer_means_comp, random_matrix=random_conductance, device='cpu')\n",
    "cam_processor.initialize_matrices()\n",
    "ref_array_np, ref_array_comp_np = cam_processor.process_LSH()\n",
    "cam_processor.print_shapes()\n",
    "\n",
    "# Calculate number of blocks(sub_array)\n",
    "n_blocks = cam_processor.calculate_sub_arrays(ref_array_np)\n",
    "print(f\"Number of complete blocks: {n_blocks}\")\n",
    "\n",
    "def split_into_submatrices(matrix, row_split_size):\n",
    "    # Calculate the total number of submatrices\n",
    "    num_submatrices = matrix.shape[0] // row_split_size\n",
    "\n",
    "    # Split the matrix into submatrices\n",
    "    submatrices = [matrix[i * row_split_size:(i + 1) * row_split_size, :] for i in range(num_submatrices)]\n",
    "\n",
    "    # If there are remaining rows that do not fit into a full submatrix, add them as a final submatrix\n",
    "    if matrix.shape[0] % row_split_size != 0:\n",
    "        submatrices.append(matrix[num_submatrices * row_split_size:, :])\n",
    "\n",
    "    return submatrices\n",
    "sub_reference_array = split_into_submatrices(ref_array_np, sub_array_row)\n",
    "sub_reference_array_comp = split_into_submatrices(ref_array_comp_np, sub_array_row)\n",
    "print(sub_reference_array[50])"
   ]
  },
  {
   "cell_type": "markdown",
   "metadata": {},
   "source": [
    "generate events"
   ]
  },
  {
   "cell_type": "code",
   "execution_count": 6,
   "metadata": {},
   "outputs": [],
   "source": [
    "# Two parameter for event\n",
    "sp, sp1 = EventProcessor()\n",
    "#read read_id from list samples here\n",
    "fast5_file = \"../dataset/SP1-mapped500.fast5\"   \n",
    "read_id = fast5_id_list(fast5_file)"
   ]
  },
  {
   "cell_type": "code",
   "execution_count": 7,
   "metadata": {},
   "outputs": [
    {
     "name": "stderr",
     "output_type": "stream",
     "text": [
      "100%|██████████| 1000/1000 [1:31:27<00:00,  5.49s/it]\n"
     ]
    }
   ],
   "source": [
    "position = []\n",
    "direction = []\n",
    "search_time = []\n",
    "vote_location = []\n",
    "\n",
    "\n",
    "# three parameter for process\n",
    "difference = [3, 3.5, 4]\n",
    "sample_number = 4000\n",
    "_Threshold = 7\n",
    "Threshold = _Threshold\n",
    "read_number = 1000\n",
    "\n",
    "\n",
    "# for i in tqdm(range(73,74)):\n",
    "for i in tqdm(range(0,read_number)):\n",
    "    _read_id = read_id[i]\n",
    "    final_location, dir, _search_time, _votes = process_sample(sample_number, sp, _read_id, fast5_file, random_matrix_np, sub_reference_array, sub_reference_array_comp, col, Threshold, sub_array_row, n_blocks, difference)\n",
    "    \n",
    "    position.append(final_location)\n",
    "    direction.append(dir)\n",
    "    search_time.append(_search_time)\n",
    "    vote_location.append(_votes)"
   ]
  },
  {
   "cell_type": "code",
   "execution_count": 8,
   "metadata": {},
   "outputs": [
    {
     "name": "stdout",
     "output_type": "stream",
     "text": [
      "[24, 43, 39, 'N', 15, 30, 41, 'N', 62, 54, 14, 'N', 52, 'N', 33, 45, 65, 62, 12, 2, 2, 23, 51, 28, 16, 73, 56, 42, 30, 62, 46, 2, 'N', 57, 56, 47, 54, 62, 45, 45, 35, 66, 43, 30, 73, 56, 35, 69, 16, 26, 43, 2, 'N', 54, 35, 47, 'N', 'N', 14, 45, 27, 68, 'N', 7, 'N', 66, 33, 22, 51, 23, 2, 'N', 33, 17, 32, 32, 16, 14, 70, 35, 7, 'N', 8, 22, 7, 'N', 42, 55, 29, 29, 31, 22, 30, 22, 31, 8, 46, 45, 30, 54, 30, 30, 41, 'N', 28, 39, 46, 54, 37, 2, 27, 'N', 16, 28, 57, 35, 29, 31, 30, 'N', 'N', 30, 15, 25, 34, 72, 'N', 62, 4, 35, 35, 63, 73, 43, 15, 36, 56, 20, 46, 62, 43, 29, 35, 28, 'N', 32, 2, 63, 'N', 6, 47, 35, 8, 'N', 17, 'N', 43, 35, 33, 'N', 43, 9, 'N', 55, 35, 12, 35, 52, 25, 'N', 35, 57, 27, 39, 26, 25, 43, 27, 56, 17, 65, 42, 42, 70, 16, 20, 66, 29, 52, 'N', 54, 33, 29, 35, 73, 14, 35, 61, 'N', 38, 2, 54, 70, 17, 56, 33, 40, 23, 16, 46, 46, 15, 2, 'N', 14, 54, 22, 32, 47, 46, 16, 35, 22, 59, 32, 35, 62, 53, 50, 38, 62, 'N', 35, 57, 65, 17, 34, 47, 'N', 29, 27, 8, 45, 43, 33, 45, 45, 33, 54, 2, 35, 12, 3, 6, 46, 33, 35, 45, 'N', 63, 35, 27, 62, 20, 35, 55, 46, 'N', 56, 2, 51, 64, 23, 52, 15, 42, 66, 'N', 62, 15, 'N', 14, 35, 21, 42, 22, 16, 56, 47, 63, 65, 28, 57, 62, 25, 33, 'N', 70, 46, 15, 44, 46, 20, 'N', 45, 14, 35, 20, 35, 17, 2, 54, 28, 35, 42, 57, 67, 64, 30, 45, 46, 54, 56, 58, 32, 70, 18, 'N', 17, 'N', 22, 'N', 47, 'N', 20, 57, 66, 8, 22, 2, 56, 52, 38, 29, 'N', 16, 42, 54, 43, 35, 12, 16, 42, 55, 30, 29, 'N', 35, 39, 29, 30, 36, 37, 71, 62, 32, 28, 46, 15, 71, 31, 56, 17, 36, 21, 'N', 17, 21, 15, 25, 30, 64, 'N', 20, 29, 43, 25, 27, 26, 39, 15, 'N', 27, 41, 47, 28, 56, 'N', 36, 66, 6, 39, 30, 'N', 8, 23, 'N', 24, 17, 16, 43, 25, 42, 35, 30, 5, 30, 28, 64, 18, 12, 30, 29, 43, 70, 14, 51, 40, 3, 7, 39, 46, 'N', 37, 29, 45, 46, 28, 47, 59, 14, 16, 28, 35, 54, 17, 48, 15, 35, 'N', 66, 30, 2, 'N', 12, 35, 22, 43, 43, 62, 55, 3, 37, 35, 31, 47, 12, 2, 19, 54, 64, 14, 28, 28, 45, 8, 58, 66, 34, 30, 62, 68, 16, 58, 66, 'N', 20, 'N', 'N', 4, 'N', 35, 30, 42, 27, 65, 26, 22, 35, 39, 47, 29, 22, 3, 15, 35, 32, 18, 54, 25, 25, 2, 35, 46, 42, 15, 16, 57, 33, 42, 60, 25, 'N', 46, 52, 7, 47, 35, 26, 17, 30, 25, 20, 17, 70, 14, 35, 35, 'N', 54, 27, 72, 42, 43, 'N', 39, 35, 46, 20, 28, 70, 57, 38, 46, 57, 23, 5, 14, 8, 29, 62, 22, 56, 45, 14, 46, 54, 51, 35, 'N', 'N', 29, 19, 57, 29, 'N', 33, 30, 74, 56, 39, 15, 29, 70, 46, 46, 8, 8, 54, 68, 70, 'N', 54, 43, 44, 39, 35, 31, 42, 36, 46, 6, 57, 56, 2, 22, 35, 16, 63, 53, 58, 59, 20, 57, 12, 30, 'N', 27, 12, 1, 'N', 8, 12, 30, 30, 32, 29, 35, 43, 49, 47, 20, 46, 45, 46, 35, 8, 'N', 46, 28, 'N', 'N', 43, 63, 7, 46, 46, 57, 26, 28, 8, 35, 60, 39, 54, 35, 35, 47, 29, 42, 13, 'N', 20, 20, 'N', 39, 31, 30, 16, 14, 16, 8, 56, 70, 35, 54, 46, 55, 54, 42, 47, 14, 35, 38, 55, 43, 66, 35, 38, 29, 27, 1, 16, 30, 17, 29, 17, 64, 68, 37, 68, 28, 73, 61, 68, 16, 46, 32, 4, 20, 35, 30, 46, 17, 28, 14, 35, 54, 67, 70, 42, 27, 43, 35, 24, 8, 30, 35, 54, 3, 60, 46, 53, 30, 47, 38, 54, 16, 67, 28, 14, 61, 46, 1, 27, 35, 57, 61, 'N', 45, 'N', 66, 47, 8, 71, 29, 66, 28, 20, 33, 42, 21, 39, 'N', 16, 30, 46, 68, 25, 45, 33, 45, 30, 3, 12, 24, 56, 1, 0, 28, 69, 8, 35, 25, 2, 63, 24, 17, 62, 14, 32, 32, 47, 'N', 43, 3, 43, 39, 66, 17, 'N', 'N', 69, 35, 42, 37, 47, 72, 43, 56, 51, 21, 20, 2, 38, 17, 29, 43, 65, 21, 46, 'N', 67, 70, 50, 28, 35, 33, 25, 46, 39, 39, 33, 15, 23, 19, 'N', 45, 24, 4, 46, 43, 30, 2, 56, 64, 35, 67, 35, 47, 55, 29, 25, 64, 62, 35, 57, 35, 35, 'N', 46, 71, 42, 7, 'N', 46, 29, 35, 56, 46, 46, 17, 35, 33, 21, 31, 35, 62, 35, 35, 67, 42, 35, 31, 14, 45, 6, 35, 12, 'N', 29, 46, 70, 27, 46, 15, 39, 35, 'N', 3, 14, 42, 'N', 63, 37, 29, 20, 52, 23, 7, 45, 1, 66, 21, 22, 45, 35, 27, 47, 'N', 8, 55, 28, 'N', 26, 56, 30, 39, 72, 46, 46, 50, 29, 16, 30, 47, 4, 46, 'N', 30, 'N', 17, 11, 46, 15, 63, 24, 62, 28, 39, 38, 31, 45, 'N', 45, 35, 'N', 35, 6, 50, 2, 46, 14, 54, 29, 46, 16, 45, 61, 35, 44, 26, 45, 30, 64, 35, 'N', 52, 8, 17, 67, 17, 40, 45, 22, 54, 55, 30, 39, 42, 'N', 42, 57, 35, 45, 14, 27, 52, 62, 73]\n",
      "['+', '-', '+', 'N', '-', '-', '+', 'N', '+', '-', '-', 'N', '+', 'N', '-', '+', '-', '-', '-', '-', '-', '-', '-', '-', '+', '+', '+', '+', '-', '-', '+', '-', 'N', '+', '-', '-', '+', '+', '+', '+', '+', '+', '-', '+', '-', '+', '+', '-', '-', '-', '-', '+', 'N', '-', '+', '-', 'N', 'N', '-', '+', '+', '+', 'N', '-', 'N', '-', '+', '+', '-', '-', '+', 'N', '-', '-', '+', '-', '+', '+', '-', '+', '-', 'N', '+', '-', '-', 'N', '+', '+', '-', '-', '+', '+', '-', '+', '-', '+', '+', '-', '-', '-', '-', '+', '+', 'N', '-', '-', '+', '+', '-', '+', '+', 'N', '+', '-', '-', '+', '+', '+', '+', 'N', 'N', '-', '-', '+', '+', '-', 'N', '-', '-', '-', '-', '-', '-', '+', '+', '+', '+', '+', '+', '-', '-', '+', '-', '-', 'N', '-', '+', '-', 'N', '+', '+', '-', '-', 'N', '+', 'N', '+', '+', '-', 'N', '+', '+', 'N', '-', '-', '+', '+', '-', '+', 'N', '-', '-', '+', '+', '-', '-', '-', '+', '+', '-', '+', '+', '+', '-', '+', '-', '-', '+', '-', 'N', '+', '-', '+', '-', '+', '+', '+', '+', 'N', '-', '+', '-', '+', '+', '+', '-', '-', '-', '+', '+', '+', '+', '+', 'N', '+', '+', '-', '-', '-', '+', '+', '+', '-', '+', '+', '-', '+', '+', '+', '-', '-', 'N', '+', '-', '+', '+', '-', '-', 'N', '+', '+', '-', '+', '+', '-', '+', '+', '-', '-', '+', '+', '-', '-', '-', '-', '-', '-', '-', 'N', '-', '-', '+', '+', '-', '+', '+', '+', 'N', '+', '-', '-', '+', '-', '+', '+', '+', '+', 'N', '+', '-', 'N', '+', '+', '-', '+', '-', '-', '+', '+', '+', '-', '+', '-', '+', '+', '-', 'N', '+', '+', '-', '-', '-', '-', 'N', '+', '-', '-', '+', '-', '+', '+', '-', '-', '-', '+', '-', '+', '-', '-', '+', '+', '-', '-', '-', '+', '+', '+', 'N', '+', 'N', '-', 'N', '+', 'N', '+', '+', '-', '+', '+', '-', '+', '-', '-', '-', 'N', '-', '-', '+', '+', '+', '-', '+', '-', '-', '-', '+', 'N', '+', '-', '+', '-', '-', '+', '-', '-', '+', '-', '+', '-', '-', '-', '+', '-', '+', '-', 'N', '-', '-', '-', '+', '+', '-', 'N', '+', '-', '-', '+', '+', '-', '-', '+', 'N', '+', '-', '-', '+', '+', 'N', '+', '+', '-', '-', '+', 'N', '+', '-', 'N', '+', '+', '-', '+', '+', '-', '-', '+', '+', '+', '-', '-', '+', '-', '+', '-', '-', '+', '-', '+', '+', '+', '-', '+', '-', 'N', '-', '+', '-', '-', '-', '-', '+', '-', '-', '-', '-', '-', '+', '+', '+', '-', 'N', '+', '+', '+', 'N', '+', '+', '-', '+', '+', '+', '-', '+', '+', '+', '-', '-', '+', '-', '+', '-', '+', '+', '-', '-', '+', '+', '+', '-', '+', '+', '-', '+', '+', '-', '+', 'N', '-', 'N', 'N', '+', 'N', '-', '-', '-', '+', '+', '-', '-', '-', '-', '-', '+', '+', '+', '-', '-', '+', '+', '+', '-', '+', '+', '+', '-', '+', '+', '-', '-', '+', '+', '-', '+', 'N', '+', '-', '+', '-', '-', '-', '+', '-', '+', '-', '+', '-', '+', '-', '+', 'N', '+', '+', '-', '+', '-', 'N', '-', '+', '+', '+', '+', '+', '-', '+', '+', '-', '-', '-', '-', '-', '-', '-', '-', '+', '+', '+', '+', '-', '-', '+', 'N', 'N', '-', '-', '-', '+', 'N', '-', '-', '-', '-', '-', '+', '+', '+', '-', '-', '+', '+', '-', '+', '-', 'N', '+', '-', '-', '+', '-', '-', '+', '+', '+', '-', '+', '+', '+', '+', '+', '+', '+', '+', '+', '+', '+', '+', '+', '+', 'N', '+', '-', '+', 'N', '-', '+', '-', '+', '+', '-', '-', '+', '-', '-', '-', '+', '+', '-', '+', '-', 'N', '+', '-', 'N', 'N', '+', '+', '-', '-', '-', '-', '-', '-', '+', '-', '+', '-', '-', '-', '+', '-', '+', '+', '-', 'N', '+', '-', 'N', '-', '-', '-', '-', '+', '+', '-', '+', '-', '-', '-', '+', '-', '-', '+', '+', '-', '+', '-', '-', '-', '-', '-', '+', '+', '+', '+', '-', '+', '-', '+', '-', '-', '+', '-', '+', '+', '-', '-', '+', '+', '-', '+', '+', '+', '-', '-', '-', '-', '+', '+', '-', '+', '-', '+', '-', '+', '-', '+', '-', '-', '+', '+', '+', '+', '+', '+', '-', '-', '+', '-', '-', '-', '-', '-', '+', '+', '+', '+', '+', '+', '-', '+', 'N', '+', 'N', '+', '+', '-', '-', '-', '+', '+', '-', '+', '+', '+', '+', 'N', '-', '-', '-', '-', '+', '+', '+', '+', '-', '-', '-', '+', '+', '+', '+', '-', '+', '+', '+', '+', '-', '+', '+', '+', '+', '-', '+', '+', '-', 'N', '-', '-', '+', '-', '-', '-', 'N', 'N', '+', '-', '-', '+', '+', '-', '-', '-', '-', '+', '+', '-', '-', '-', '-', '+', '+', '-', '+', 'N', '+', '+', '+', '+', '-', '-', '-', '+', '-', '+', '-', '-', '-', '+', 'N', '+', '+', '-', '-', '-', '-', '+', '-', '+', '+', '+', '-', '+', '-', '-', '-', '-', '-', '-', '-', '+', '-', 'N', '+', '-', '-', '+', 'N', '-', '-', '-', '-', '-', '+', '-', '+', '-', '-', '-', '+', '+', '+', '-', '-', '-', '+', '+', '-', '+', '-', '-', '-', 'N', '+', '+', '+', '+', '-', '+', '+', '+', 'N', '-', '-', '+', 'N', '-', '+', '-', '+', '-', '-', '-', '+', '-', '+', '-', '+', '+', '-', '+', '+', 'N', '-', '-', '+', 'N', '+', '-', '-', '+', '-', '-', '+', '+', '+', '+', '+', '-', '+', '-', 'N', '+', 'N', '-', '+', '-', '+', '+', '+', '-', '+', '-', '+', '-', '-', 'N', '+', '-', 'N', '-', '+', '+', '-', '-', '+', '-', '+', '+', '+', '+', '+', '+', '-', '-', '+', '+', '-', '-', 'N', '+', '-', '+', '+', '+', '+', '+', '+', '-', '-', '+', '+', '-', 'N', '+', '-', '-', '+', '-', '+', '-', '+', '-']\n",
      "[417, 448, 424, 1343, 456, 466, 476, 1219, 425, 437, 499, 1230, 425, 1094, 780, 426, 416, 434, 832, 434, 463, 458, 421, 484, 412, 417, 432, 385, 424, 756, 434, 481, 1258, 1301, 874, 471, 888, 437, 469, 389, 449, 466, 450, 437, 444, 420, 454, 374, 458, 445, 1289, 421, 1385, 435, 433, 1332, 1236, 1286, 482, 406, 462, 432, 1463, 439, 1273, 811, 444, 438, 452, 435, 424, 1360, 445, 391, 393, 508, 467, 450, 434, 442, 445, 1200, 451, 457, 426, 733, 452, 445, 448, 427, 434, 853, 861, 431, 428, 442, 877, 445, 449, 425, 433, 450, 469, 1252, 462, 473, 457, 419, 431, 456, 475, 1184, 872, 438, 433, 455, 469, 415, 855, 1298, 1182, 480, 411, 449, 439, 833, 1258, 440, 448, 424, 457, 451, 400, 468, 389, 422, 403, 460, 445, 463, 441, 455, 458, 452, 1297, 477, 436, 449, 1225, 412, 395, 437, 483, 1251, 378, 1176, 497, 421, 382, 1182, 883, 431, 1256, 366, 419, 481, 413, 431, 417, 1141, 440, 429, 352, 457, 463, 382, 429, 469, 765, 432, 436, 490, 453, 430, 1205, 459, 409, 437, 438, 1291, 426, 462, 955, 420, 443, 423, 432, 423, 1251, 484, 450, 434, 430, 833, 419, 447, 428, 840, 422, 420, 355, 436, 445, 1309, 467, 425, 450, 860, 482, 484, 472, 443, 452, 450, 446, 411, 411, 368, 444, 889, 433, 1013, 456, 447, 464, 476, 829, 447, 1205, 834, 412, 473, 447, 914, 449, 459, 410, 461, 432, 426, 445, 429, 452, 448, 464, 816, 436, 433, 1218, 455, 765, 475, 455, 461, 751, 385, 431, 927, 431, 445, 460, 471, 899, 783, 440, 480, 445, 1264, 432, 429, 1251, 435, 454, 456, 444, 455, 460, 429, 782, 888, 451, 838, 422, 436, 791, 454, 1172, 424, 447, 434, 443, 472, 437, 1108, 422, 467, 427, 406, 425, 853, 418, 430, 466, 436, 436, 452, 429, 451, 465, 391, 482, 432, 444, 436, 458, 409, 436, 1302, 417, 1327, 802, 266, 453, 911, 1189, 463, 441, 436, 443, 434, 422, 418, 473, 465, 747, 454, 462, 424, 438, 446, 1152, 403, 455, 413, 468, 428, 1243, 478, 430, 456, 440, 885, 416, 425, 476, 460, 483, 419, 404, 889, 799, 483, 475, 453, 939, 1340, 439, 428, 935, 822, 458, 459, 1338, 446, 440, 422, 411, 478, 845, 457, 432, 1252, 877, 490, 433, 452, 444, 1387, 455, 1210, 451, 489, 433, 1303, 428, 430, 1366, 419, 445, 486, 876, 819, 482, 413, 422, 441, 442, 467, 417, 429, 769, 418, 446, 450, 447, 469, 430, 478, 460, 398, 444, 976, 1143, 438, 433, 457, 390, 437, 483, 416, 472, 502, 446, 427, 417, 452, 475, 429, 458, 998, 454, 869, 433, 1061, 333, 431, 446, 457, 449, 824, 407, 414, 449, 448, 427, 454, 443, 479, 919, 430, 855, 460, 423, 447, 440, 801, 494, 463, 459, 438, 465, 486, 486, 441, 463, 1201, 482, 1358, 1322, 410, 1069, 438, 433, 429, 453, 430, 457, 443, 448, 440, 468, 462, 421, 422, 1055, 374, 439, 436, 426, 805, 412, 450, 453, 450, 528, 436, 472, 428, 455, 375, 381, 1256, 1278, 457, 443, 401, 432, 447, 437, 470, 421, 432, 448, 1187, 413, 446, 452, 230, 1349, 420, 853, 398, 470, 431, 1305, 470, 453, 441, 1408, 484, 411, 436, 471, 431, 384, 438, 460, 728, 424, 440, 463, 454, 444, 450, 499, 877, 460, 456, 709, 1247, 1374, 454, 899, 356, 441, 1233, 465, 451, 272, 454, 439, 444, 456, 1207, 483, 429, 437, 728, 1162, 405, 440, 1201, 380, 903, 426, 489, 430, 432, 465, 466, 358, 840, 447, 432, 454, 446, 466, 454, 796, 378, 452, 1254, 451, 299, 806, 441, 1136, 477, 423, 468, 1487, 444, 464, 423, 440, 442, 441, 454, 431, 428, 474, 440, 801, 385, 496, 427, 463, 1250, 447, 459, 1215, 1197, 441, 462, 405, 429, 453, 360, 426, 446, 466, 434, 429, 450, 428, 427, 468, 445, 421, 486, 379, 1302, 442, 447, 1168, 443, 435, 485, 422, 919, 1291, 436, 408, 438, 462, 379, 454, 436, 289, 471, 917, 453, 415, 464, 395, 462, 457, 420, 1239, 374, 481, 353, 494, 888, 464, 449, 465, 424, 440, 473, 339, 1351, 454, 419, 472, 473, 480, 826, 405, 854, 453, 421, 919, 425, 443, 442, 450, 835, 891, 407, 374, 476, 458, 477, 430, 428, 914, 443, 410, 461, 464, 467, 471, 413, 435, 465, 417, 913, 371, 468, 877, 435, 454, 409, 471, 414, 799, 441, 1087, 404, 1135, 436, 411, 472, 430, 401, 439, 471, 457, 440, 453, 477, 449, 1404, 444, 468, 409, 452, 458, 458, 460, 457, 907, 435, 432, 448, 363, 1204, 447, 470, 434, 446, 462, 818, 433, 1295, 462, 442, 435, 473, 430, 429, 465, 1207, 794, 949, 452, 443, 450, 470, 1337, 1136, 842, 441, 496, 466, 420, 379, 476, 430, 424, 465, 511, 456, 459, 472, 437, 472, 1255, 460, 443, 1209, 494, 434, 461, 488, 448, 424, 424, 464, 490, 441, 448, 451, 458, 1003, 1257, 437, 450, 474, 453, 440, 430, 449, 431, 428, 436, 449, 443, 448, 454, 690, 407, 403, 470, 474, 433, 413, 409, 691, 463, 440, 446, 448, 1294, 933, 457, 831, 398, 885, 465, 411, 454, 401, 464, 455, 427, 472, 448, 443, 438, 831, 442, 421, 443, 1112, 457, 457, 415, 1179, 443, 449, 445, 392, 404, 360, 449, 444, 629, 482, 474, 465, 1459, 423, 472, 487, 1271, 868, 423, 464, 444, 457, 466, 460, 466, 423, 446, 835, 434, 1306, 853, 455, 447, 1222, 446, 866, 456, 404, 421, 922, 412, 440, 452, 433, 416, 431, 432, 442, 722, 879, 1378, 1414, 453, 423, 409, 467, 853, 448, 477, 459, 456, 451, 432, 1004, 417, 392, 1076, 443, 431, 423, 435, 454, 411, 443, 945, 1408, 1289, 430, 882, 464, 874, 866, 466, 444, 415, 462, 1234, 420, 455, 469, 484, 786, 454, 453, 459, 419, 849, 380, 892, 884, 1204, 445, 411, 450, 446, 462, 488, 452, 455, 443]\n",
      "[15, 21, 10, 'N', 16, 17, 20, 'N', 14, 15, 12, 'N', 22, 'N', 10, 22, 20, 6, 12, 14, 10, 13, 14, 14, 18, 18, 24, 8, 20, 6, 14, 14, 'N', 12, 18, 10, 8, 6, 16, 6, 16, 6, 13, 12, 23, 17, 14, 14, 7, 9, 9, 12, 'N', 20, 23, 6, 'N', 'N', 6, 23, 6, 21, 'N', 11, 'N', 11, 16, 14, 9, 18, 22, 'N', 14, 9, 8, 18, 19, 6, 16, 9, 13, 'N', 23, 23, 9, 'N', 13, 23, 29, 18, 27, 12, 29, 12, 24, 12, 12, 7, 21, 14, 26, 10, 13, 'N', 25, 12, 19, 6, 7, 7, 10, 'N', 9, 11, 19, 21, 14, 26, 12, 'N', 'N', 16, 12, 9, 7, 9, 'N', 9, 13, 20, 17, 20, 9, 11, 10, 31, 15, 9, 12, 17, 18, 24, 6, 12, 'N', 14, 9, 16, 'N', 31, 10, 22, 6, 'N', 14, 'N', 9, 14, 9, 'N', 6, 14, 'N', 13, 8, 7, 13, 12, 14, 'N', 18, 7, 6, 15, 22, 25, 10, 12, 8, 31, 14, 11, 16, 9, 7, 19, 13, 38, 24, 'N', 8, 14, 7, 17, 19, 8, 26, 13, 'N', 10, 27, 12, 11, 6, 21, 11, 10, 8, 7, 7, 8, 9, 16, 'N', 8, 19, 35, 15, 15, 15, 10, 20, 15, 19, 12, 15, 9, 11, 11, 6, 11, 'N', 14, 27, 17, 6, 22, 19, 'N', 10, 7, 8, 11, 9, 11, 10, 20, 10, 12, 25, 8, 18, 25, 16, 25, 8, 15, 13, 'N', 26, 9, 6, 22, 11, 6, 26, 10, 'N', 18, 13, 10, 10, 23, 8, 12, 8, 15, 'N', 10, 12, 'N', 15, 13, 14, 19, 15, 8, 17, 13, 9, 11, 11, 15, 9, 11, 15, 'N', 15, 10, 8, 18, 9, 9, 'N', 7, 17, 19, 8, 10, 10, 11, 12, 7, 16, 7, 11, 14, 14, 18, 14, 13, 21, 16, 16, 12, 9, 11, 'N', 13, 'N', 8, 'N', 10, 'N', 11, 11, 13, 26, 7, 35, 21, 7, 11, 10, 'N', 15, 16, 8, 14, 6, 7, 6, 17, 15, 21, 6, 'N', 14, 6, 6, 11, 11, 12, 20, 13, 17, 20, 8, 15, 7, 9, 13, 16, 11, 7, 'N', 32, 12, 17, 7, 14, 16, 'N', 22, 16, 11, 13, 17, 6, 16, 22, 'N', 8, 28, 8, 12, 13, 'N', 11, 7, 23, 14, 12, 'N', 9, 20, 'N', 14, 23, 16, 20, 13, 8, 22, 6, 7, 40, 15, 20, 7, 13, 24, 14, 12, 29, 15, 19, 7, 9, 9, 15, 6, 'N', 8, 11, 28, 10, 31, 10, 32, 16, 15, 18, 16, 17, 11, 11, 7, 13, 'N', 11, 8, 17, 'N', 11, 11, 32, 7, 11, 6, 11, 17, 14, 9, 9, 14, 14, 10, 7, 9, 8, 6, 22, 20, 11, 14, 16, 15, 10, 10, 18, 9, 12, 9, 28, 'N', 11, 'N', 'N', 10, 'N', 17, 16, 11, 9, 14, 17, 6, 10, 7, 19, 21, 10, 34, 15, 6, 23, 11, 12, 9, 7, 21, 14, 28, 16, 13, 11, 16, 8, 18, 11, 17, 'N', 28, 19, 21, 31, 13, 23, 13, 10, 14, 13, 10, 18, 12, 20, 7, 'N', 10, 10, 9, 19, 16, 'N', 15, 34, 7, 13, 7, 11, 27, 14, 12, 24, 12, 19, 12, 29, 17, 19, 6, 27, 19, 10, 6, 19, 24, 7, 'N', 'N', 24, 15, 9, 13, 'N', 22, 29, 13, 30, 15, 7, 18, 7, 17, 7, 13, 16, 8, 14, 9, 'N', 21, 6, 16, 19, 15, 13, 19, 12, 6, 12, 15, 17, 26, 11, 6, 14, 9, 25, 14, 11, 8, 9, 11, 13, 'N', 6, 13, 9, 'N', 9, 7, 14, 15, 13, 25, 11, 15, 18, 22, 18, 7, 16, 17, 6, 9, 'N', 10, 11, 'N', 'N', 9, 23, 15, 38, 10, 15, 38, 15, 9, 14, 23, 26, 17, 15, 6, 15, 16, 11, 9, 'N', 8, 29, 'N', 20, 8, 14, 14, 9, 10, 21, 12, 24, 25, 13, 9, 18, 9, 17, 6, 22, 10, 14, 31, 14, 11, 18, 7, 16, 11, 14, 11, 8, 23, 9, 35, 14, 14, 15, 19, 12, 17, 11, 7, 10, 14, 12, 15, 10, 14, 15, 10, 12, 12, 9, 22, 10, 14, 17, 10, 14, 9, 15, 11, 18, 8, 16, 18, 35, 6, 23, 16, 14, 7, 6, 34, 10, 8, 19, 10, 23, 18, 8, 12, 15, 6, 15, 'N', 26, 'N', 6, 8, 15, 29, 14, 15, 14, 14, 16, 10, 11, 10, 'N', 23, 21, 17, 9, 16, 14, 15, 18, 12, 28, 7, 18, 16, 6, 11, 11, 14, 8, 20, 7, 15, 11, 7, 11, 6, 12, 7, 34, 26, 'N', 8, 9, 21, 18, 26, 18, 'N', 'N', 9, 14, 14, 11, 19, 18, 8, 17, 7, 14, 10, 16, 10, 13, 24, 8, 14, 9, 15, 'N', 18, 30, 8, 15, 16, 17, 12, 16, 11, 18, 12, 27, 13, 11, 'N', 18, 14, 14, 9, 12, 21, 12, 7, 10, 11, 12, 9, 15, 23, 7, 7, 12, 14, 27, 7, 12, 16, 'N', 13, 8, 15, 12, 'N', 14, 15, 16, 21, 19, 14, 17, 33, 20, 8, 12, 35, 8, 15, 20, 13, 13, 11, 11, 8, 11, 17, 7, 17, 'N', 14, 6, 17, 14, 7, 15, 30, 14, 'N', 10, 19, 16, 'N', 14, 9, 18, 6, 6, 18, 18, 15, 25, 11, 8, 10, 19, 11, 6, 12, 'N', 7, 14, 6, 'N', 6, 11, 11, 17, 25, 11, 13, 14, 19, 8, 43, 13, 14, 15, 'N', 20, 'N', 13, 28, 33, 9, 19, 9, 12, 8, 15, 16, 12, 14, 'N', 21, 22, 'N', 16, 10, 16, 6, 13, 15, 19, 15, 7, 11, 20, 15, 11, 11, 18, 9, 14, 15, 10, 'N', 23, 20, 13, 6, 14, 13, 19, 13, 16, 9, 6, 8, 10, 'N', 17, 20, 17, 20, 12, 6, 13, 20, 17]\n",
      "90\n"
     ]
    }
   ],
   "source": [
    "print(position)\n",
    "print(direction)\n",
    "print(search_time)\n",
    "print(vote_location)\n",
    "N_count = sum(1 for item in position if item == 'N')\n",
    "print(N_count)"
   ]
  },
  {
   "cell_type": "code",
   "execution_count": 9,
   "metadata": {},
   "outputs": [
    {
     "name": "stderr",
     "output_type": "stream",
     "text": [
      "  0%|          | 0/90 [00:00<?, ?it/s]"
     ]
    },
    {
     "name": "stderr",
     "output_type": "stream",
     "text": [
      "100%|██████████| 90/90 [07:43<00:00,  5.15s/it]\n"
     ]
    }
   ],
   "source": [
    "index = [i for i, x in enumerate(position) if x == 'N']\n",
    "update_position(sample_number, position, direction, search_time, vote_location, sp1, read_id, fast5_file, index, [4, 3], random_matrix_np, sub_reference_array, sub_reference_array_comp, col, Threshold, sub_array_row, n_blocks)"
   ]
  },
  {
   "cell_type": "code",
   "execution_count": 10,
   "metadata": {},
   "outputs": [
    {
     "name": "stdout",
     "output_type": "stream",
     "text": [
      "[24, 43, 39, 'N', 15, 30, 41, 'N', 62, 54, 14, 46, 52, 'N', 33, 45, 65, 62, 12, 2, 2, 23, 51, 28, 16, 73, 56, 42, 30, 62, 46, 2, 63, 57, 56, 47, 54, 62, 45, 45, 35, 66, 43, 30, 73, 56, 35, 69, 16, 26, 43, 2, 28, 54, 35, 47, 'N', 67, 14, 45, 27, 68, 'N', 7, 16, 66, 33, 22, 51, 23, 2, 'N', 33, 17, 32, 32, 16, 14, 70, 35, 7, 54, 8, 22, 7, 70, 42, 55, 29, 29, 31, 22, 30, 22, 31, 8, 46, 45, 30, 54, 30, 30, 41, 'N', 28, 39, 46, 54, 37, 2, 27, 17, 16, 28, 57, 35, 29, 31, 30, 8, 38, 30, 15, 25, 34, 72, 'N', 62, 4, 35, 35, 63, 73, 43, 15, 36, 56, 20, 46, 62, 43, 29, 35, 28, 14, 32, 2, 63, 'N', 6, 47, 35, 8, 38, 17, 6, 43, 35, 33, 2, 43, 9, 16, 55, 35, 12, 35, 52, 25, 'N', 35, 57, 27, 39, 26, 25, 43, 27, 56, 17, 65, 42, 42, 70, 16, 20, 66, 29, 52, 17, 54, 33, 29, 35, 73, 14, 35, 61, 'N', 38, 2, 54, 70, 17, 56, 33, 40, 23, 16, 46, 46, 15, 2, 'N', 14, 54, 22, 32, 47, 46, 16, 35, 22, 59, 32, 35, 62, 53, 50, 38, 62, 42, 35, 57, 65, 17, 34, 47, 45, 29, 27, 8, 45, 43, 33, 45, 45, 33, 54, 2, 35, 12, 3, 6, 46, 33, 35, 45, 'N', 63, 35, 27, 62, 20, 35, 55, 46, 'N', 56, 2, 51, 64, 23, 52, 15, 42, 66, 8, 62, 15, 'N', 14, 35, 21, 42, 22, 16, 56, 47, 63, 65, 28, 57, 62, 25, 33, 'N', 70, 46, 15, 44, 46, 20, 'N', 45, 14, 35, 20, 35, 17, 2, 54, 28, 35, 42, 57, 67, 64, 30, 45, 46, 54, 56, 58, 32, 70, 18, 26, 17, 43, 22, 'N', 47, 60, 20, 57, 66, 8, 22, 2, 56, 52, 38, 29, 'N', 16, 42, 54, 43, 35, 12, 16, 42, 55, 30, 29, 37, 35, 39, 29, 30, 36, 37, 71, 62, 32, 28, 46, 15, 71, 31, 56, 17, 36, 21, 'N', 17, 21, 15, 25, 30, 64, 42, 20, 29, 43, 25, 27, 26, 39, 15, 'N', 27, 41, 47, 28, 56, 39, 36, 66, 6, 39, 30, 52, 8, 23, 43, 24, 17, 16, 43, 25, 42, 35, 30, 5, 30, 28, 64, 18, 12, 30, 29, 43, 70, 14, 51, 40, 3, 7, 39, 46, 4, 37, 29, 45, 46, 28, 47, 59, 14, 16, 28, 35, 54, 17, 48, 15, 35, 46, 66, 30, 2, 2, 12, 35, 22, 43, 43, 62, 55, 3, 37, 35, 31, 47, 12, 2, 19, 54, 64, 14, 28, 28, 45, 8, 58, 66, 34, 30, 62, 68, 16, 58, 66, 'N', 20, 'N', 41, 4, 'N', 35, 30, 42, 27, 65, 26, 22, 35, 39, 47, 29, 22, 3, 15, 35, 32, 18, 54, 25, 25, 2, 35, 46, 42, 15, 16, 57, 33, 42, 60, 25, 'N', 46, 52, 7, 47, 35, 26, 17, 30, 25, 20, 17, 70, 14, 35, 35, 'N', 54, 27, 72, 42, 43, 16, 39, 35, 46, 20, 28, 70, 57, 38, 46, 57, 23, 5, 14, 8, 29, 62, 22, 56, 45, 14, 46, 54, 51, 35, 47, 'N', 29, 19, 57, 29, 25, 33, 30, 74, 56, 39, 15, 29, 70, 46, 46, 8, 8, 54, 68, 70, 69, 54, 43, 44, 39, 35, 31, 42, 36, 46, 6, 57, 56, 2, 22, 35, 16, 63, 53, 58, 59, 20, 57, 12, 30, 'N', 27, 12, 1, 'N', 8, 12, 30, 30, 32, 29, 35, 43, 49, 47, 20, 46, 45, 46, 35, 8, 33, 46, 28, 'N', 'N', 43, 63, 7, 46, 46, 57, 26, 28, 8, 35, 60, 39, 54, 35, 35, 47, 29, 42, 13, 14, 20, 20, 54, 39, 31, 30, 16, 14, 16, 8, 56, 70, 35, 54, 46, 55, 54, 42, 47, 14, 35, 38, 55, 43, 66, 35, 38, 29, 27, 1, 16, 30, 17, 29, 17, 64, 68, 37, 68, 28, 73, 61, 68, 16, 46, 32, 4, 20, 35, 30, 46, 17, 28, 14, 35, 54, 67, 70, 42, 27, 43, 35, 24, 8, 30, 35, 54, 3, 60, 46, 53, 30, 47, 38, 54, 16, 67, 28, 14, 61, 46, 1, 27, 35, 57, 61, 'N', 45, 'N', 66, 47, 8, 71, 29, 66, 28, 20, 33, 42, 21, 39, 'N', 16, 30, 46, 68, 25, 45, 33, 45, 30, 3, 12, 24, 56, 1, 0, 28, 69, 8, 35, 25, 2, 63, 24, 17, 62, 14, 32, 32, 47, 17, 43, 3, 43, 39, 66, 17, 'N', 'N', 69, 35, 42, 37, 47, 72, 43, 56, 51, 21, 20, 2, 38, 17, 29, 43, 65, 21, 46, 11, 67, 70, 50, 28, 35, 33, 25, 46, 39, 39, 33, 15, 23, 19, 'N', 45, 24, 4, 46, 43, 30, 2, 56, 64, 35, 67, 35, 47, 55, 29, 25, 64, 62, 35, 57, 35, 35, 'N', 46, 71, 42, 7, 5, 46, 29, 35, 56, 46, 46, 17, 35, 33, 21, 31, 35, 62, 35, 35, 67, 42, 35, 31, 14, 45, 6, 35, 12, 'N', 29, 46, 70, 27, 46, 15, 39, 35, 14, 3, 14, 42, 'N', 63, 37, 29, 20, 52, 23, 7, 45, 1, 66, 21, 22, 45, 35, 27, 47, 15, 8, 55, 28, 'N', 26, 56, 30, 39, 72, 46, 46, 50, 29, 16, 30, 47, 4, 46, 'N', 30, 35, 17, 11, 46, 15, 63, 24, 62, 28, 39, 38, 31, 45, 'N', 45, 35, 46, 35, 6, 50, 2, 46, 14, 54, 29, 46, 16, 45, 61, 35, 44, 26, 45, 30, 64, 35, 'N', 52, 8, 17, 67, 17, 40, 45, 22, 54, 55, 30, 39, 42, 6, 42, 57, 35, 45, 14, 27, 52, 62, 73]\n",
      "['+', '-', '+', 'N', '-', '-', '+', 'N', '+', '-', '-', '+', '+', 'N', '-', '+', '-', '-', '-', '-', '-', '-', '-', '-', '+', '+', '+', '+', '-', '-', '+', '-', '-', '+', '-', '-', '+', '+', '+', '+', '+', '+', '-', '+', '-', '+', '+', '-', '-', '-', '-', '+', '+', '-', '+', '-', 'N', '-', '-', '+', '+', '+', 'N', '-', '+', '-', '+', '+', '-', '-', '+', 'N', '-', '-', '+', '-', '+', '+', '-', '+', '-', '+', '+', '-', '-', '+', '+', '+', '-', '-', '+', '+', '-', '+', '-', '+', '+', '-', '-', '-', '-', '+', '+', 'N', '-', '-', '+', '+', '-', '+', '+', '+', '+', '-', '-', '+', '+', '+', '+', '-', '+', '-', '-', '+', '+', '-', 'N', '-', '-', '-', '-', '-', '-', '+', '+', '+', '+', '+', '+', '-', '-', '+', '-', '-', '-', '-', '+', '-', 'N', '+', '+', '-', '-', '-', '+', '+', '+', '+', '-', '+', '+', '+', '+', '-', '-', '+', '+', '-', '+', 'N', '-', '-', '+', '+', '-', '-', '-', '+', '+', '-', '+', '+', '+', '-', '+', '-', '-', '+', '-', '-', '+', '-', '+', '-', '+', '+', '+', '+', 'N', '-', '+', '-', '+', '+', '+', '-', '-', '-', '+', '+', '+', '+', '+', 'N', '+', '+', '-', '-', '-', '+', '+', '+', '-', '+', '+', '-', '+', '+', '+', '-', '-', '+', '+', '-', '+', '+', '-', '-', '+', '+', '+', '-', '+', '+', '-', '+', '+', '-', '-', '+', '+', '-', '-', '-', '-', '-', '-', '-', 'N', '-', '-', '+', '+', '-', '+', '+', '+', 'N', '+', '-', '-', '+', '-', '+', '+', '+', '+', '-', '+', '-', 'N', '+', '+', '-', '+', '-', '-', '+', '+', '+', '-', '+', '-', '+', '+', '-', 'N', '+', '+', '-', '-', '-', '-', 'N', '+', '-', '-', '+', '-', '+', '+', '-', '-', '-', '+', '-', '+', '-', '-', '+', '+', '-', '-', '-', '+', '+', '+', '-', '+', '-', '-', 'N', '+', '-', '+', '+', '-', '+', '+', '-', '+', '-', '-', '-', 'N', '-', '-', '+', '+', '+', '-', '+', '-', '-', '-', '+', '-', '+', '-', '+', '-', '-', '+', '-', '-', '+', '-', '+', '-', '-', '-', '+', '-', '+', '-', 'N', '-', '-', '-', '+', '+', '-', '+', '+', '-', '-', '+', '+', '-', '-', '+', 'N', '+', '-', '-', '+', '+', '-', '+', '+', '-', '-', '+', '-', '+', '-', '+', '+', '+', '-', '+', '+', '-', '-', '+', '+', '+', '-', '-', '+', '-', '+', '-', '-', '+', '-', '+', '+', '+', '-', '+', '-', '+', '-', '+', '-', '-', '-', '-', '+', '-', '-', '-', '-', '-', '+', '+', '+', '-', '+', '+', '+', '+', '-', '+', '+', '-', '+', '+', '+', '-', '+', '+', '+', '-', '-', '+', '-', '+', '-', '+', '+', '-', '-', '+', '+', '+', '-', '+', '+', '-', '+', '+', '-', '+', 'N', '-', 'N', '-', '+', 'N', '-', '-', '-', '+', '+', '-', '-', '-', '-', '-', '+', '+', '+', '-', '-', '+', '+', '+', '-', '+', '+', '+', '-', '+', '+', '-', '-', '+', '+', '-', '+', 'N', '+', '-', '+', '-', '-', '-', '+', '-', '+', '-', '+', '-', '+', '-', '+', 'N', '+', '+', '-', '+', '-', '-', '-', '+', '+', '+', '+', '+', '-', '+', '+', '-', '-', '-', '-', '-', '-', '-', '-', '+', '+', '+', '+', '-', '-', '+', '+', 'N', '-', '-', '-', '+', '+', '-', '-', '-', '-', '-', '+', '+', '+', '-', '-', '+', '+', '-', '+', '-', '+', '+', '-', '-', '+', '-', '-', '+', '+', '+', '-', '+', '+', '+', '+', '+', '+', '+', '+', '+', '+', '+', '+', '+', '+', 'N', '+', '-', '+', 'N', '-', '+', '-', '+', '+', '-', '-', '+', '-', '-', '-', '+', '+', '-', '+', '-', '+', '+', '-', 'N', 'N', '+', '+', '-', '-', '-', '-', '-', '-', '+', '-', '+', '-', '-', '-', '+', '-', '+', '+', '-', '-', '+', '-', '+', '-', '-', '-', '-', '+', '+', '-', '+', '-', '-', '-', '+', '-', '-', '+', '+', '-', '+', '-', '-', '-', '-', '-', '+', '+', '+', '+', '-', '+', '-', '+', '-', '-', '+', '-', '+', '+', '-', '-', '+', '+', '-', '+', '+', '+', '-', '-', '-', '-', '+', '+', '-', '+', '-', '+', '-', '+', '-', '+', '-', '-', '+', '+', '+', '+', '+', '+', '-', '-', '+', '-', '-', '-', '-', '-', '+', '+', '+', '+', '+', '+', '-', '+', 'N', '+', 'N', '+', '+', '-', '-', '-', '+', '+', '-', '+', '+', '+', '+', 'N', '-', '-', '-', '-', '+', '+', '+', '+', '-', '-', '-', '+', '+', '+', '+', '-', '+', '+', '+', '+', '-', '+', '+', '+', '+', '-', '+', '+', '-', '+', '-', '-', '+', '-', '-', '-', 'N', 'N', '+', '-', '-', '+', '+', '-', '-', '-', '-', '+', '+', '-', '-', '-', '-', '+', '+', '-', '+', '+', '+', '+', '+', '+', '-', '-', '-', '+', '-', '+', '-', '-', '-', '+', 'N', '+', '+', '-', '-', '-', '-', '+', '-', '+', '+', '+', '-', '+', '-', '-', '-', '-', '-', '-', '-', '+', '-', 'N', '+', '-', '-', '+', '+', '-', '-', '-', '-', '-', '+', '-', '+', '-', '-', '-', '+', '+', '+', '-', '-', '-', '+', '+', '-', '+', '-', '-', '-', 'N', '+', '+', '+', '+', '-', '+', '+', '+', '+', '-', '-', '+', 'N', '-', '+', '-', '+', '-', '-', '-', '+', '-', '+', '-', '+', '+', '-', '+', '+', '-', '-', '-', '+', 'N', '+', '-', '-', '+', '-', '-', '+', '+', '+', '+', '+', '-', '+', '-', 'N', '+', '-', '-', '+', '-', '+', '+', '+', '-', '+', '-', '+', '-', '-', 'N', '+', '-', '-', '-', '+', '+', '-', '-', '+', '-', '+', '+', '+', '+', '+', '+', '-', '-', '+', '+', '-', '-', 'N', '+', '-', '+', '+', '+', '+', '+', '+', '-', '-', '+', '+', '-', '-', '+', '-', '-', '+', '-', '+', '-', '+', '-']\n",
      "[417, 448, 424, 2082, 456, 466, 476, 1960, 425, 437, 499, 1997, 425, 1684, 780, 426, 416, 434, 832, 434, 463, 458, 421, 484, 412, 417, 432, 385, 424, 756, 434, 481, 1610, 1301, 874, 471, 888, 437, 469, 389, 449, 466, 450, 437, 444, 420, 454, 374, 458, 445, 1289, 421, 1763, 435, 433, 1332, 1895, 1643, 482, 406, 462, 432, 2230, 439, 1999, 811, 444, 438, 452, 435, 424, 2112, 445, 391, 393, 508, 467, 450, 434, 442, 445, 1923, 451, 457, 426, 953, 452, 445, 448, 427, 434, 853, 861, 431, 428, 442, 877, 445, 449, 425, 433, 450, 469, 1985, 462, 473, 457, 419, 431, 456, 475, 1517, 872, 438, 433, 455, 469, 415, 855, 1623, 1531, 480, 411, 449, 439, 833, 1948, 440, 448, 424, 457, 451, 400, 468, 389, 422, 403, 460, 445, 463, 441, 455, 458, 452, 1646, 477, 436, 449, 1931, 412, 395, 437, 483, 1587, 378, 1517, 497, 421, 382, 1523, 883, 431, 1951, 366, 419, 481, 413, 431, 417, 1740, 440, 429, 352, 457, 463, 382, 429, 469, 765, 432, 436, 490, 453, 430, 1205, 459, 409, 437, 438, 1663, 426, 462, 955, 420, 443, 423, 432, 423, 1970, 484, 450, 434, 430, 833, 419, 447, 428, 840, 422, 420, 355, 436, 445, 2026, 467, 425, 450, 860, 482, 484, 472, 443, 452, 450, 446, 411, 411, 368, 444, 889, 433, 1270, 456, 447, 464, 476, 829, 447, 1517, 834, 412, 473, 447, 914, 449, 459, 410, 461, 432, 426, 445, 429, 452, 448, 464, 816, 436, 433, 1966, 455, 765, 475, 455, 461, 751, 385, 431, 1532, 431, 445, 460, 471, 899, 783, 440, 480, 445, 1610, 432, 429, 2004, 435, 454, 456, 444, 455, 460, 429, 782, 888, 451, 838, 422, 436, 791, 454, 1842, 424, 447, 434, 443, 472, 437, 1763, 422, 467, 427, 406, 425, 853, 418, 430, 466, 436, 436, 452, 429, 451, 465, 391, 482, 432, 444, 436, 458, 409, 436, 1654, 417, 1691, 802, 423, 453, 1431, 1189, 463, 441, 436, 443, 434, 422, 418, 473, 465, 1178, 454, 462, 424, 438, 446, 1152, 403, 455, 413, 468, 428, 1958, 478, 430, 456, 440, 885, 416, 425, 476, 460, 483, 419, 404, 889, 799, 483, 475, 453, 939, 2081, 439, 428, 935, 822, 458, 459, 1693, 446, 440, 422, 411, 478, 845, 457, 432, 1991, 877, 490, 433, 452, 444, 1759, 455, 1210, 451, 489, 433, 2082, 428, 430, 1725, 419, 445, 486, 876, 819, 482, 413, 422, 441, 442, 467, 417, 429, 769, 418, 446, 450, 447, 469, 430, 478, 460, 398, 444, 976, 1453, 438, 433, 457, 390, 437, 483, 416, 472, 502, 446, 427, 417, 452, 475, 429, 458, 1564, 454, 869, 433, 1769, 333, 431, 446, 457, 449, 824, 407, 414, 449, 448, 427, 454, 443, 479, 919, 430, 855, 460, 423, 447, 440, 801, 494, 463, 459, 438, 465, 486, 486, 441, 463, 1881, 482, 2103, 2079, 410, 1649, 438, 433, 429, 453, 430, 457, 443, 448, 440, 468, 462, 421, 422, 1055, 374, 439, 436, 426, 805, 412, 450, 453, 450, 528, 436, 472, 428, 455, 375, 381, 1256, 1991, 457, 443, 401, 432, 447, 437, 470, 421, 432, 448, 1187, 413, 446, 452, 230, 2118, 420, 853, 398, 470, 431, 1652, 470, 453, 441, 1408, 484, 411, 436, 471, 431, 384, 438, 460, 728, 424, 440, 463, 454, 444, 450, 499, 877, 460, 456, 709, 1612, 2131, 454, 899, 356, 441, 1940, 465, 451, 272, 454, 439, 444, 456, 1207, 483, 429, 437, 728, 1162, 405, 440, 1553, 380, 903, 426, 489, 430, 432, 465, 466, 358, 840, 447, 432, 454, 446, 466, 454, 796, 378, 452, 1254, 451, 299, 806, 441, 1828, 477, 423, 468, 2229, 444, 464, 423, 440, 442, 441, 454, 431, 428, 474, 440, 801, 385, 496, 427, 463, 1972, 447, 459, 1933, 1918, 441, 462, 405, 429, 453, 360, 426, 446, 466, 434, 429, 450, 428, 427, 468, 445, 421, 486, 379, 2032, 442, 447, 1478, 443, 435, 485, 422, 919, 1291, 436, 408, 438, 462, 379, 454, 436, 289, 471, 917, 453, 415, 464, 395, 462, 457, 420, 1239, 374, 481, 353, 494, 888, 464, 449, 465, 424, 440, 473, 339, 1351, 454, 419, 472, 473, 480, 826, 405, 854, 453, 421, 919, 425, 443, 442, 450, 835, 891, 407, 374, 476, 458, 477, 430, 428, 914, 443, 410, 461, 464, 467, 471, 413, 435, 465, 417, 913, 371, 468, 877, 435, 454, 409, 471, 414, 799, 441, 1727, 404, 1740, 436, 411, 472, 430, 401, 439, 471, 457, 440, 453, 477, 449, 2186, 444, 468, 409, 452, 458, 458, 460, 457, 907, 435, 432, 448, 363, 1204, 447, 470, 434, 446, 462, 818, 433, 1295, 462, 442, 435, 473, 430, 429, 465, 1535, 794, 949, 452, 443, 450, 470, 2114, 1772, 842, 441, 496, 466, 420, 379, 476, 430, 424, 465, 511, 456, 459, 472, 437, 472, 1255, 460, 443, 1563, 494, 434, 461, 488, 448, 424, 424, 464, 490, 441, 448, 451, 458, 1003, 1987, 437, 450, 474, 453, 440, 430, 449, 431, 428, 436, 449, 443, 448, 454, 690, 407, 403, 470, 474, 433, 413, 409, 1185, 463, 440, 446, 448, 2032, 933, 457, 831, 398, 885, 465, 411, 454, 401, 464, 455, 427, 472, 448, 443, 438, 831, 442, 421, 443, 1112, 457, 457, 415, 1827, 443, 449, 445, 392, 404, 360, 449, 444, 795, 482, 474, 465, 2223, 423, 472, 487, 1271, 868, 423, 464, 444, 457, 466, 460, 466, 423, 446, 835, 434, 1682, 853, 455, 447, 1938, 446, 866, 456, 404, 421, 922, 412, 440, 452, 433, 416, 431, 432, 442, 1005, 879, 1737, 1414, 453, 423, 409, 467, 853, 448, 477, 459, 456, 451, 432, 1568, 417, 392, 1385, 443, 431, 423, 435, 454, 411, 443, 945, 1408, 1289, 430, 882, 464, 874, 866, 466, 444, 415, 462, 1938, 420, 455, 469, 484, 786, 454, 453, 459, 419, 849, 380, 892, 884, 1546, 445, 411, 450, 446, 462, 488, 452, 455, 443]\n",
      "[15, 21, 10, 'N', 16, 17, 20, 'N', 14, 15, 12, 10, 22, 'N', 10, 22, 20, 6, 12, 14, 10, 13, 14, 14, 18, 18, 24, 8, 20, 6, 14, 14, 7, 12, 18, 10, 8, 6, 16, 6, 16, 6, 13, 12, 23, 17, 14, 14, 7, 9, 9, 12, 14, 20, 23, 6, 'N', 7, 6, 23, 6, 21, 'N', 11, 7, 11, 16, 14, 9, 18, 22, 'N', 14, 9, 8, 18, 19, 6, 16, 9, 13, 9, 23, 23, 9, 12, 13, 23, 29, 18, 27, 12, 29, 12, 24, 12, 12, 7, 21, 14, 26, 10, 13, 'N', 25, 12, 19, 6, 7, 7, 10, 11, 9, 11, 19, 21, 14, 26, 12, 7, 6, 16, 12, 9, 7, 9, 'N', 9, 13, 20, 17, 20, 9, 11, 10, 31, 15, 9, 12, 17, 18, 24, 6, 12, 9, 14, 9, 16, 'N', 31, 10, 22, 6, 7, 14, 9, 9, 14, 9, 10, 6, 14, 7, 13, 8, 7, 13, 12, 14, 'N', 18, 7, 6, 15, 22, 25, 10, 12, 8, 31, 14, 11, 16, 9, 7, 19, 13, 38, 24, 12, 8, 14, 7, 17, 19, 8, 26, 13, 'N', 10, 27, 12, 11, 6, 21, 11, 10, 8, 7, 7, 8, 9, 16, 'N', 8, 19, 35, 15, 15, 15, 10, 20, 15, 19, 12, 15, 9, 11, 11, 6, 11, 8, 14, 27, 17, 6, 22, 19, 13, 10, 7, 8, 11, 9, 11, 10, 20, 10, 12, 25, 8, 18, 25, 16, 25, 8, 15, 13, 'N', 26, 9, 6, 22, 11, 6, 26, 10, 'N', 18, 13, 10, 10, 23, 8, 12, 8, 15, 7, 10, 12, 'N', 15, 13, 14, 19, 15, 8, 17, 13, 9, 11, 11, 15, 9, 11, 15, 'N', 15, 10, 8, 18, 9, 9, 'N', 7, 17, 19, 8, 10, 10, 11, 12, 7, 16, 7, 11, 14, 14, 18, 14, 13, 21, 16, 16, 12, 9, 11, 13, 13, 6, 8, 'N', 10, 8, 11, 11, 13, 26, 7, 35, 21, 7, 11, 10, 'N', 15, 16, 8, 14, 6, 7, 6, 17, 15, 21, 6, 9, 14, 6, 6, 11, 11, 12, 20, 13, 17, 20, 8, 15, 7, 9, 13, 16, 11, 7, 'N', 32, 12, 17, 7, 14, 16, 6, 22, 16, 11, 13, 17, 6, 16, 22, 'N', 8, 28, 8, 12, 13, 11, 11, 7, 23, 14, 12, 9, 9, 20, 9, 14, 23, 16, 20, 13, 8, 22, 6, 7, 40, 15, 20, 7, 13, 24, 14, 12, 29, 15, 19, 7, 9, 9, 15, 6, 8, 8, 11, 28, 10, 31, 10, 32, 16, 15, 18, 16, 17, 11, 11, 7, 13, 6, 11, 8, 17, 6, 11, 11, 32, 7, 11, 6, 11, 17, 14, 9, 9, 14, 14, 10, 7, 9, 8, 6, 22, 20, 11, 14, 16, 15, 10, 10, 18, 9, 12, 9, 28, 'N', 11, 'N', 9, 10, 'N', 17, 16, 11, 9, 14, 17, 6, 10, 7, 19, 21, 10, 34, 15, 6, 23, 11, 12, 9, 7, 21, 14, 28, 16, 13, 11, 16, 8, 18, 11, 17, 'N', 28, 19, 21, 31, 13, 23, 13, 10, 14, 13, 10, 18, 12, 20, 7, 'N', 10, 10, 9, 19, 16, 14, 15, 34, 7, 13, 7, 11, 27, 14, 12, 24, 12, 19, 12, 29, 17, 19, 6, 27, 19, 10, 6, 19, 24, 7, 13, 'N', 24, 15, 9, 13, 7, 22, 29, 13, 30, 15, 7, 18, 7, 17, 7, 13, 16, 8, 14, 9, 6, 21, 6, 16, 19, 15, 13, 19, 12, 6, 12, 15, 17, 26, 11, 6, 14, 9, 25, 14, 11, 8, 9, 11, 13, 'N', 6, 13, 9, 'N', 9, 7, 14, 15, 13, 25, 11, 15, 18, 22, 18, 7, 16, 17, 6, 9, 18, 10, 11, 'N', 'N', 9, 23, 15, 38, 10, 15, 38, 15, 9, 14, 23, 26, 17, 15, 6, 15, 16, 11, 9, 8, 8, 29, 6, 20, 8, 14, 14, 9, 10, 21, 12, 24, 25, 13, 9, 18, 9, 17, 6, 22, 10, 14, 31, 14, 11, 18, 7, 16, 11, 14, 11, 8, 23, 9, 35, 14, 14, 15, 19, 12, 17, 11, 7, 10, 14, 12, 15, 10, 14, 15, 10, 12, 12, 9, 22, 10, 14, 17, 10, 14, 9, 15, 11, 18, 8, 16, 18, 35, 6, 23, 16, 14, 7, 6, 34, 10, 8, 19, 10, 23, 18, 8, 12, 15, 6, 15, 'N', 26, 'N', 6, 8, 15, 29, 14, 15, 14, 14, 16, 10, 11, 10, 'N', 23, 21, 17, 9, 16, 14, 15, 18, 12, 28, 7, 18, 16, 6, 11, 11, 14, 8, 20, 7, 15, 11, 7, 11, 6, 12, 7, 34, 26, 10, 8, 9, 21, 18, 26, 18, 'N', 'N', 9, 14, 14, 11, 19, 18, 8, 17, 7, 14, 10, 16, 10, 13, 24, 8, 14, 9, 15, 14, 18, 30, 8, 15, 16, 17, 12, 16, 11, 18, 12, 27, 13, 11, 'N', 18, 14, 14, 9, 12, 21, 12, 7, 10, 11, 12, 9, 15, 23, 7, 7, 12, 14, 27, 7, 12, 16, 'N', 13, 8, 15, 12, 6, 14, 15, 16, 21, 19, 14, 17, 33, 20, 8, 12, 35, 8, 15, 20, 13, 13, 11, 11, 8, 11, 17, 7, 17, 'N', 14, 6, 17, 14, 7, 15, 30, 14, 6, 10, 19, 16, 'N', 14, 9, 18, 6, 6, 18, 18, 15, 25, 11, 8, 10, 19, 11, 6, 12, 7, 7, 14, 6, 'N', 6, 11, 11, 17, 25, 11, 13, 14, 19, 8, 43, 13, 14, 15, 'N', 20, 7, 13, 28, 33, 9, 19, 9, 12, 8, 15, 16, 12, 14, 'N', 21, 22, 7, 16, 10, 16, 6, 13, 15, 19, 15, 7, 11, 20, 15, 11, 11, 18, 9, 14, 15, 10, 'N', 23, 20, 13, 6, 14, 13, 19, 13, 16, 9, 6, 8, 10, 10, 17, 20, 17, 20, 12, 6, 13, 20, 17]\n",
      "44\n"
     ]
    }
   ],
   "source": [
    "print(position)\n",
    "print(direction)\n",
    "print(search_time)\n",
    "print(vote_location)\n",
    "N_count = sum(1 for item in position if item == 'N')\n",
    "print(N_count)"
   ]
  },
  {
   "cell_type": "code",
   "execution_count": 11,
   "metadata": {},
   "outputs": [
    {
     "name": "stdout",
     "output_type": "stream",
     "text": [
      "[8400, 15976, 14400, '*', 4764, 10773, 15116, '*', 23600, 20400, 4286, 17200, 19600, '*', 12000, 16800, 24800, 23600, 3600, 400, 388, 7979, 19200, 9937, 5200, 28000, 21200, 15600, 10800, 23600, 17200, 375, 23988, 21555, 21161, 17561, 20400, 23600, 16734, 16800, 12791, 25155, 15997, 10800, 28000, 21200, 12797, 26400, 5152, 9200, 15955, 400, 9898, 20400, 12800, 17534, '*', 25567, 4307, 16800, 9585, 26000, '*', 1600, 5200, 25200, 12000, 7600, 19200, 8000, 400, '*', 12000, 5600, 11600, 11477, 5152, 4385, 26800, 12800, 1594, 20400, 1979, 7540, 1600, 26800, 15561, 20800, 10400, 10400, 11200, 7600, 10800, 7600, 11200, 2000, 17200, 16755, 10800, 20400, 10800, 10794, 15152, '*', 9967, 14337, 17146, 20400, 13600, 400, 9591, 5600, 5167, 10000, 21600, 12767, 10307, 11200, 10800, 2000, 14000, 10737, 4800, 8779, 12400, 27600, '*', 23600, 376, 12800, 12776, 23973, 28000, 15898, 4800, 13200, 21200, 6740, 17194, 23597, 16000, 10400, 12800, 9973, 4370, 11501, 400, 23991, '*', 1200, 17600, 12800, 1922, 13967, 5600, 1200, 15901, 12800, 12000, 400, 15976, 2400, 5200, 20800, 12800, 3477, 12800, 19600, 8800, '*', 12800, 21600, 9600, 14382, 9182, 8800, 16000, 9519, 21200, 5597, 24800, 15471, 15582, 26800, 5200, 6764, 25200, 10400, 19600, 5561, 20400, 12000, 10304, 12800, 28000, 4400, 12800, 23200, '*', 13940, 400, 20400, 26800, 5600, 21200, 12000, 14800, 7985, 5200, 17200, 17200, 4800, 400, '*', 4340, 20400, 7558, 11600, 17558, 17134, 5125, 12800, 7597, 22346, 11600, 12800, 23600, 20000, 18791, 14000, 23600, 15600, 12791, 21600, 24758, 5558, 12400, 17600, 16800, 10400, 9600, 1919, 16800, 15964, 11988, 16740, 16800, 11979, 20400, 400, 12800, 3600, 388, 1182, 17095, 12000, 12800, 16800, '*', 23982, 12800, 9555, 23570, 6740, 12800, 20800, 17200, '*', 21200, 400, 19179, 24328, 7967, 19600, 4800, 15519, 25200, 2000, 23600, 4800, '*', 4400, 12785, 7200, 15582, 7591, 5143, 21200, 17600, 24000, 24800, 10000, 21600, 23600, 8800, 12000, '*', 26800, 17200, 4794, 16400, 17155, 6800, '*', 16800, 4367, 12800, 6800, 12800, 5600, 400, 20400, 9958, 12800, 15600, 21597, 25600, 24376, 10800, 16800, 17137, 20400, 21200, 22000, 11600, 26800, 6000, 9176, 5600, 15931, 7600, '*', 17591, 22800, 6800, 21597, 25200, 2000, 7600, 400, 21200, 19600, 13952, 10355, '*', 5185, 15561, 20400, 16000, 12743, 3600, 5200, 15552, 20800, 10755, 10400, 13600, 12755, 14400, 10358, 10800, 13194, 13600, 27200, 23486, 11588, 9922, 17200, 4800, 27167, 11200, 21131, 5495, 13167, 7086, '*', 5591, 7200, 4698, 8800, 10770, 24382, 15531, 6800, 10400, 16000, 8800, 9552, 9200, 14397, 4800, '*', 9579, 15116, 17600, 10000, 21200, 14280, 13200, 25200, 1158, 14265, 10800, 19570, 2000, 8000, 15913, 8400, 5600, 5116, 15964, 8800, 15519, 12800, 10800, 800, 10791, 9985, 24400, 6000, 3600, 10800, 10400, 15952, 26800, 4313, 19200, 14734, 372, 1600, 14400, 17200, 400, 13600, 10400, 16779, 17200, 9970, 17486, 22400, 4319, 5068, 9970, 12800, 20400, 5600, 17958, 4800, 12755, 17200, 25179, 10791, 400, 400, 3600, 12800, 7588, 15973, 15994, 23600, 20800, 400, 13579, 12794, 11200, 17564, 3600, 389, 6283, 20400, 24400, 4358, 10000, 9994, 16788, 2000, 21898, 25176, 12400, 10800, 23525, 25922, 5119, 22000, 25155, '*', 6719, '*', 15143, 400, '*', 12800, 10800, 15600, 9600, 24800, 9155, 7594, 12779, 14400, 17531, 10394, 7600, 400, 4800, 12800, 11600, 6000, 20400, 8800, 8800, 400, 12788, 17185, 15423, 4800, 5155, 21600, 11961, 15600, 22800, 8800, '*', 17179, 19600, 1600, 17600, 12776, 9200, 5531, 10800, 8800, 6782, 5600, 26800, 4382, 12788, 12800, '*', 20400, 9600, 27600, 15537, 16000, 5179, 14361, 12755, 17200, 6662, 9925, 26800, 21600, 13931, 17200, 21600, 8000, 758, 4400, 2000, 10388, 23576, 7588, 21200, 16800, 4316, 17194, 20394, 19194, 12800, 17600, '*', 10400, 6349, 21600, 10400, 8800, 11964, 10800, 28400, 21182, 14400, 4800, 10400, 26800, 17083, 17200, 2000, 2000, 20400, 26000, 26797, 26400, 20400, 15976, 16400, 14319, 12800, 11200, 15543, 13200, 17200, 1200, 21600, 21200, 395, 7576, 12725, 5164, 24000, 20000, 22000, 22400, 6785, 21600, 3600, 10791, '*', 9555, 3600, 0, '*', 1973, 3597, 10800, 10800, 11600, 10400, 12800, 16000, 18400, 17543, 6797, 17200, 16800, 17068, 12800, 1970, 12000, 17200, 9958, '*', '*', 16000, 23967, 1600, 17200, 17143, 21600, 9200, 10000, 1931, 12800, 22800, 14400, 20400, 12800, 12800, 17582, 10400, 15516, 4000, 4352, 6797, 6758, 20400, 14397, 11200, 10734, 5200, 4394, 5167, 2000, 21200, 26800, 12740, 20400, 17182, 20800, 20400, 15555, 17528, 4361, 12800, 14000, 20800, 15967, 25158, 12800, 14000, 10400, 9504, 0, 5038, 10770, 5585, 10400, 5516, 24400, 26000, 13594, 26000, 9940, 27982, 23200, 25931, 5107, 17083, 11600, 400, 6800, 12797, 10800, 17101, 5600, 10000, 4400, 12788, 20400, 25555, 26800, 15600, 9528, 15949, 12737, 8400, 2000, 10704, 12785, 20400, 378, 22728, 17161, 19988, 10800, 17600, 13958, 20400, 5170, 25600, 9970, 4400, 23200, 17173, 0, 9525, 12800, 21600, 23164, '*', 16800, '*', 25200, 17600, 1970, 27200, 10400, 25200, 9991, 6794, 12000, 15591, 7122, 14400, '*', 5200, 10758, 17200, 25979, 8800, 16794, 11952, 16776, 10707, 384, 3600, 8400, 21200, 0, 0, 9961, 26400, 2000, 12779, 8800, 400, 23964, 8367, 5600, 23600, 4331, 11600, 11600, 17552, 5600, 16000, 324, 16000, 14382, 25170, 5498, '*', '*', 26400, 12794, 15498, 13534, 17600, 27600, 15922, 21200, 19200, 7131, 6707, 395, 13982, 5513, 10400, 15928, 24788, 7152, 17200, 3200, 25513, 26800, 18800, 9943, 12773, 12000, 8800, 17149, 14289, 14400, 11982, 4776, 7967, 6217, '*', 16800, 8382, 340, 17131, 16000, 10800, 395, 21200, 24400, 12800, 25594, 12800, 17591, 20773, 10400, 8800, 24400, 23558, 12731, 21600, 12800, 12800, '*', 17113, 27200, 15588, 1600, 749, 17101, 10400, 12800, 21200, 17173, 17161, 5600, 12797, 12000, 7137, 11182, 12800, 23519, 12800, 12788, 25600, 15600, 12800, 11200, 4376, 16800, 1170, 12779, 3600, '*', 10400, 17200, 26800, 9600, 17200, 4800, 14391, 12773, 4400, 340, 4298, 15564, '*', 24000, 13549, 10361, 6776, 19579, 7997, 1582, 16797, 0, 25137, 7200, 7582, 16800, 12755, 9600, 17600, 4761, 1979, 20800, 9964, '*', 9200, 21188, 10800, 14400, 27600, 17131, 17200, 18800, 10385, 5200, 10800, 17600, 400, 17200, '*', 10788, 12692, 5456, 3188, 17200, 4800, 23973, 8400, 23594, 9964, 14325, 13949, 11200, 16800, '*', 16800, 12800, 17200, 12797, 1200, 18800, 400, 17161, 4400, 20400, 10319, 17053, 5179, 16800, 23194, 12800, 16385, 9185, 16791, 10800, 24400, 12737, '*', 19600, 1955, 5516, 25522, 5600, 14779, 16800, 7585, 20400, 20800, 10800, 14400, 15594, 1200, 15594, 21600, 12800, 16800, 4373, 9516, 19600, 23591, 28000]\n",
      "[10800, 18424, 16800, '*', 7236, 13227, 17684, '*', 26000, 22800, 6914, 19600, 22000, '*', 14400, 19200, 27200, 26000, 6000, 2000, 2036, 10421, 21600, 12463, 7600, 30400, 23600, 18000, 13200, 26000, 19600, 2075, 26412, 24045, 23639, 20039, 22800, 26000, 19266, 19200, 15209, 27645, 18403, 13200, 30400, 23600, 15203, 28800, 7648, 11600, 18445, 2000, 12502, 22800, 15200, 20066, '*', 28033, 6893, 19200, 12015, 28400, '*', 4000, 7600, 27600, 14400, 10000, 21600, 10400, 2000, '*', 14400, 8000, 14000, 14123, 7648, 6815, 29200, 15200, 4006, 22800, 4421, 10060, 4000, 29200, 18039, 23200, 12800, 12800, 13600, 10000, 13200, 10000, 13600, 4400, 19600, 19245, 13200, 22800, 13200, 13206, 17648, '*', 12433, 16863, 19654, 22800, 16000, 2000, 12009, 8000, 7633, 12400, 24000, 15233, 12893, 13600, 13200, 4400, 16400, 13263, 7200, 11221, 14800, 30000, '*', 26000, 2824, 15200, 15224, 26427, 30400, 18502, 7200, 15600, 23600, 9260, 19606, 26003, 18400, 12800, 15200, 12427, 6830, 14099, 2000, 26409, '*', 3600, 20000, 15200, 4478, 16433, 8000, 3600, 18499, 15200, 14400, 2000, 18424, 4800, 7600, 23200, 15200, 6123, 15200, 22000, 11200, '*', 15200, 24000, 12000, 16818, 11618, 11200, 18400, 12081, 23600, 8003, 27200, 18129, 18018, 29200, 7600, 9236, 27600, 12800, 22000, 8039, 22800, 14400, 12896, 15200, 30400, 6800, 15200, 25600, '*', 16460, 2000, 22800, 29200, 8000, 23600, 14400, 17200, 10415, 7600, 19600, 19600, 7200, 2000, '*', 6860, 22800, 10042, 14000, 20042, 19666, 7675, 15200, 10003, 24854, 14000, 15200, 26000, 22400, 21209, 16400, 26000, 18000, 15209, 24000, 27242, 8042, 14800, 20000, 19200, 12800, 12000, 4481, 19200, 18436, 14412, 19260, 19200, 14421, 22800, 2000, 15200, 6000, 2418, 3618, 19705, 14400, 15200, 19200, '*', 26418, 15200, 12045, 26030, 9260, 15200, 23200, 19600, '*', 23600, 2000, 21621, 26872, 10433, 22000, 7200, 18081, 27600, 4400, 26000, 7200, '*', 6800, 15215, 9600, 18018, 10009, 7657, 23600, 20000, 26400, 27200, 12400, 24000, 26000, 11200, 14400, '*', 29200, 19600, 7206, 18800, 19645, 9200, '*', 19200, 6833, 15200, 9200, 15200, 8000, 2000, 22800, 12442, 15200, 18000, 24003, 28000, 26824, 13200, 19200, 19663, 22800, 23600, 24400, 14000, 29200, 8400, 11624, 8000, 18469, 10000, '*', 20009, 25200, 9200, 24003, 27600, 4400, 10000, 2000, 23600, 22000, 16448, 12845, '*', 7615, 18039, 22800, 18400, 15257, 6000, 7600, 18048, 23200, 13245, 12800, 16000, 15245, 16800, 12842, 13200, 15606, 16000, 29600, 26114, 14012, 12478, 19600, 7200, 29633, 13600, 23669, 8105, 15633, 9714, '*', 8009, 9600, 7302, 11200, 13230, 26818, 18069, 9200, 12800, 18400, 11200, 12048, 11600, 16803, 7200, '*', 12021, 17684, 20000, 12400, 23600, 16920, 15600, 27600, 3642, 16935, 13200, 22030, 4400, 10400, 18487, 10800, 8000, 7684, 18436, 11200, 18081, 15200, 13200, 3200, 13209, 12415, 26800, 8400, 6000, 13200, 12800, 18448, 29200, 6887, 21600, 17266, 2442, 4000, 16800, 19600, 2800, 16000, 12800, 19221, 19600, 12430, 20114, 24800, 6881, 7732, 12430, 15200, 22800, 8000, 20442, 7200, 15245, 19600, 27621, 13209, 2000, 2000, 6000, 15200, 10012, 18427, 18406, 26000, 23200, 2400, 16021, 15206, 13600, 20036, 6000, 2033, 8917, 22800, 26800, 6842, 12400, 12406, 19212, 4400, 24502, 27624, 14800, 13200, 26075, 28478, 7681, 24400, 27645, '*', 9281, '*', 17657, 2800, '*', 15200, 13200, 18000, 12000, 27200, 11645, 10006, 15221, 16800, 20069, 12806, 10000, 2400, 7200, 15200, 14000, 8400, 22800, 11200, 11200, 2000, 15212, 19615, 18177, 7200, 7645, 24000, 14439, 18000, 25200, 11200, '*', 19621, 22000, 4000, 20000, 15224, 11600, 8069, 13200, 11200, 9218, 8000, 29200, 6818, 15212, 15200, '*', 22800, 12000, 30000, 18063, 18400, 7621, 16839, 15245, 19600, 9338, 12475, 29200, 24000, 16469, 19600, 24000, 10400, 3242, 6800, 4400, 12812, 26024, 10012, 23600, 19200, 6884, 19606, 22806, 21606, 15200, 20000, '*', 12800, 8851, 24000, 12800, 11200, 14436, 13200, 30800, 23618, 16800, 7200, 12800, 29200, 19717, 19600, 4400, 4400, 22800, 28400, 29203, 28800, 22800, 18424, 18800, 16881, 15200, 13600, 18057, 15600, 19600, 3600, 24000, 23600, 2015, 10024, 15275, 7636, 26400, 22400, 24400, 24800, 9215, 24000, 6000, 13209, '*', 12045, 6000, 1642, '*', 4427, 6003, 13200, 13200, 14000, 12800, 15200, 18400, 20800, 20057, 9203, 19600, 19200, 19732, 15200, 4430, 14400, 19600, 12442, '*', '*', 18400, 26433, 4000, 19600, 19657, 24000, 11600, 12400, 4469, 15200, 25200, 16800, 22800, 15200, 15200, 20018, 12800, 18084, 6400, 6848, 9203, 9242, 22800, 16803, 13600, 13266, 7600, 6806, 7633, 4400, 23600, 29200, 15260, 22800, 19618, 23200, 22800, 18045, 20072, 6839, 15200, 16400, 23200, 18433, 27642, 15200, 16400, 12800, 12096, 1600, 7762, 13230, 8015, 12800, 8084, 26800, 28400, 16006, 28400, 12460, 30418, 25600, 28469, 7693, 19717, 14000, 2800, 9200, 15203, 13200, 19699, 8000, 12400, 6800, 15212, 22800, 28045, 29200, 18000, 12072, 18451, 15263, 10800, 4400, 13296, 15215, 22800, 2433, 25272, 19639, 22412, 13200, 20000, 16442, 22800, 7630, 28000, 12430, 6800, 25600, 19627, 1600, 12075, 15200, 24000, 25636, '*', 19200, '*', 27600, 20000, 4430, 29600, 12800, 27600, 12409, 9206, 14400, 18009, 9678, 16800, '*', 7600, 13242, 19600, 28421, 11200, 19206, 14448, 19224, 13293, 2424, 6000, 10800, 23600, 1600, 1212, 12439, 28800, 4400, 15221, 11200, 2000, 26436, 10833, 8000, 26000, 6869, 14000, 14000, 20048, 8000, 18400, 2514, 18400, 16818, 27630, 8102, '*', '*', 28800, 15206, 18102, 16066, 20000, 30000, 18478, 23600, 21600, 9669, 9293, 2015, 16418, 8087, 12800, 18472, 27212, 9648, 19600, 5600, 28087, 29200, 21200, 12457, 15227, 14400, 11200, 19651, 16911, 16800, 14418, 7224, 10433, 8983, '*', 19200, 10818, 2860, 19669, 18400, 13200, 2015, 23600, 26800, 15200, 28006, 15200, 20009, 23227, 12800, 11200, 26800, 26042, 15269, 24000, 15200, 15200, '*', 19687, 29600, 18012, 4000, 3251, 19699, 12800, 15200, 23600, 19627, 19639, 8000, 15203, 14400, 9663, 13618, 15200, 26081, 15200, 15212, 28000, 18000, 15200, 13600, 6824, 19200, 3630, 15221, 6000, '*', 12800, 19600, 29200, 12000, 19600, 7200, 16809, 15227, 6800, 2490, 6902, 18036, '*', 26400, 16051, 12839, 9224, 22021, 10403, 4018, 19203, 1666, 27663, 9600, 10018, 19200, 15245, 12000, 20000, 7239, 4421, 23200, 12436, '*', 11600, 23612, 13200, 16800, 30000, 19669, 19600, 21200, 12815, 7600, 13200, 20000, 2800, 19600, '*', 13212, 15308, 8144, 5612, 19600, 7200, 26427, 10800, 26006, 12436, 16875, 16451, 13600, 19200, '*', 19200, 15200, 19600, 15203, 3600, 21200, 2000, 19639, 6800, 22800, 12881, 19747, 7621, 19200, 25606, 15200, 18815, 11615, 19209, 13200, 26800, 15263, '*', 22000, 4445, 8084, 28078, 8000, 17221, 19200, 10015, 22800, 23200, 13200, 16800, 18006, 3600, 18006, 24000, 15200, 19200, 6827, 12084, 22000, 26009, 30400]\n",
      "['+', '-', '+', '*', '-', '-', '+', '*', '+', '-', '-', '+', '+', '*', '-', '+', '-', '-', '-', '-', '-', '-', '-', '-', '+', '+', '+', '+', '-', '-', '+', '-', '-', '+', '-', '-', '+', '+', '+', '+', '+', '+', '-', '+', '-', '+', '+', '-', '-', '-', '-', '+', '+', '-', '+', '-', '*', '-', '-', '+', '+', '+', '*', '-', '+', '-', '+', '+', '-', '-', '+', '*', '-', '-', '+', '-', '+', '+', '-', '+', '-', '+', '+', '-', '-', '+', '+', '+', '-', '-', '+', '+', '-', '+', '-', '+', '+', '-', '-', '-', '-', '+', '+', '*', '-', '-', '+', '+', '-', '+', '+', '+', '+', '-', '-', '+', '+', '+', '+', '-', '+', '-', '-', '+', '+', '-', '*', '-', '-', '-', '-', '-', '-', '+', '+', '+', '+', '+', '+', '-', '-', '+', '-', '-', '-', '-', '+', '-', '*', '+', '+', '-', '-', '-', '+', '+', '+', '+', '-', '+', '+', '+', '+', '-', '-', '+', '+', '-', '+', '*', '-', '-', '+', '+', '-', '-', '-', '+', '+', '-', '+', '+', '+', '-', '+', '-', '-', '+', '-', '-', '+', '-', '+', '-', '+', '+', '+', '+', '*', '-', '+', '-', '+', '+', '+', '-', '-', '-', '+', '+', '+', '+', '+', '*', '+', '+', '-', '-', '-', '+', '+', '+', '-', '+', '+', '-', '+', '+', '+', '-', '-', '+', '+', '-', '+', '+', '-', '-', '+', '+', '+', '-', '+', '+', '-', '+', '+', '-', '-', '+', '+', '-', '-', '-', '-', '-', '-', '-', '*', '-', '-', '+', '+', '-', '+', '+', '+', '*', '+', '-', '-', '+', '-', '+', '+', '+', '+', '-', '+', '-', '*', '+', '+', '-', '+', '-', '-', '+', '+', '+', '-', '+', '-', '+', '+', '-', '*', '+', '+', '-', '-', '-', '-', '*', '+', '-', '-', '+', '-', '+', '+', '-', '-', '-', '+', '-', '+', '-', '-', '+', '+', '-', '-', '-', '+', '+', '+', '-', '+', '-', '-', '*', '+', '-', '+', '+', '-', '+', '+', '-', '+', '-', '-', '-', '*', '-', '-', '+', '+', '+', '-', '+', '-', '-', '-', '+', '-', '+', '-', '+', '-', '-', '+', '-', '-', '+', '-', '+', '-', '-', '-', '+', '-', '+', '-', '*', '-', '-', '-', '+', '+', '-', '+', '+', '-', '-', '+', '+', '-', '-', '+', '*', '+', '-', '-', '+', '+', '-', '+', '+', '-', '-', '+', '-', '+', '-', '+', '+', '+', '-', '+', '+', '-', '-', '+', '+', '+', '-', '-', '+', '-', '+', '-', '-', '+', '-', '+', '+', '+', '-', '+', '-', '+', '-', '+', '-', '-', '-', '-', '+', '-', '-', '-', '-', '-', '+', '+', '+', '-', '+', '+', '+', '+', '-', '+', '+', '-', '+', '+', '+', '-', '+', '+', '+', '-', '-', '+', '-', '+', '-', '+', '+', '-', '-', '+', '+', '+', '-', '+', '+', '-', '+', '+', '-', '+', '*', '-', '*', '-', '+', '*', '-', '-', '-', '+', '+', '-', '-', '-', '-', '-', '+', '+', '+', '-', '-', '+', '+', '+', '-', '+', '+', '+', '-', '+', '+', '-', '-', '+', '+', '-', '+', '*', '+', '-', '+', '-', '-', '-', '+', '-', '+', '-', '+', '-', '+', '-', '+', '*', '+', '+', '-', '+', '-', '-', '-', '+', '+', '+', '+', '+', '-', '+', '+', '-', '-', '-', '-', '-', '-', '-', '-', '+', '+', '+', '+', '-', '-', '+', '+', '*', '-', '-', '-', '+', '+', '-', '-', '-', '-', '-', '+', '+', '+', '-', '-', '+', '+', '-', '+', '-', '+', '+', '-', '-', '+', '-', '-', '+', '+', '+', '-', '+', '+', '+', '+', '+', '+', '+', '+', '+', '+', '+', '+', '+', '+', '*', '+', '-', '+', '*', '-', '+', '-', '+', '+', '-', '-', '+', '-', '-', '-', '+', '+', '-', '+', '-', '+', '+', '-', '*', '*', '+', '+', '-', '-', '-', '-', '-', '-', '+', '-', '+', '-', '-', '-', '+', '-', '+', '+', '-', '-', '+', '-', '+', '-', '-', '-', '-', '+', '+', '-', '+', '-', '-', '-', '+', '-', '-', '+', '+', '-', '+', '-', '-', '-', '-', '-', '+', '+', '+', '+', '-', '+', '-', '+', '-', '-', '+', '-', '+', '+', '-', '-', '+', '+', '-', '+', '+', '+', '-', '-', '-', '-', '+', '+', '-', '+', '-', '+', '-', '+', '-', '+', '-', '-', '+', '+', '+', '+', '+', '+', '-', '-', '+', '-', '-', '-', '-', '-', '+', '+', '+', '+', '+', '+', '-', '+', '*', '+', '*', '+', '+', '-', '-', '-', '+', '+', '-', '+', '+', '+', '+', '*', '-', '-', '-', '-', '+', '+', '+', '+', '-', '-', '-', '+', '+', '+', '+', '-', '+', '+', '+', '+', '-', '+', '+', '+', '+', '-', '+', '+', '-', '+', '-', '-', '+', '-', '-', '-', '*', '*', '+', '-', '-', '+', '+', '-', '-', '-', '-', '+', '+', '-', '-', '-', '-', '+', '+', '-', '+', '+', '+', '+', '+', '+', '-', '-', '-', '+', '-', '+', '-', '-', '-', '+', '*', '+', '+', '-', '-', '-', '-', '+', '-', '+', '+', '+', '-', '+', '-', '-', '-', '-', '-', '-', '-', '+', '-', '*', '+', '-', '-', '+', '+', '-', '-', '-', '-', '-', '+', '-', '+', '-', '-', '-', '+', '+', '+', '-', '-', '-', '+', '+', '-', '+', '-', '-', '-', '*', '+', '+', '+', '+', '-', '+', '+', '+', '+', '-', '-', '+', '*', '-', '+', '-', '+', '-', '-', '-', '+', '-', '+', '-', '+', '+', '-', '+', '+', '-', '-', '-', '+', '*', '+', '-', '-', '+', '-', '-', '+', '+', '+', '+', '+', '-', '+', '-', '*', '+', '-', '-', '+', '-', '+', '+', '+', '-', '+', '-', '+', '-', '-', '*', '+', '-', '-', '-', '+', '+', '-', '-', '+', '-', '+', '+', '+', '+', '+', '+', '-', '-', '+', '+', '-', '-', '*', '+', '-', '+', '+', '+', '+', '+', '+', '-', '-', '+', '+', '-', '-', '+', '-', '-', '+', '-', '+', '-', '+', '-']\n"
     ]
    }
   ],
   "source": [
    "_position=position\n",
    "_direction=direction\n",
    "_direction = ['*' if x == 'N' else x for x in _direction]\n",
    "\n",
    "low_boundary=[]\n",
    "high_boundary=[]\n",
    "_position=np.array(_position)\n",
    "low_boundary,high_boundary= process_location(sample_number, sp, low_boundary, high_boundary, read_id, read_number, _position, fast5_file, sub_array_row)\n",
    "\n",
    "print(low_boundary)\n",
    "print(high_boundary)\n",
    "print(_direction)\n",
    "\n"
   ]
  },
  {
   "cell_type": "code",
   "execution_count": 12,
   "metadata": {},
   "outputs": [],
   "source": [
    "data_list = _direction\n",
    "\n",
    "template_file_path = '../code/result_template/test_SP1_500_template.xlsx'\n",
    "# template_file_path = 'result_template/test_LSH_v2.xlsx'\n",
    "\n",
    "wb = load_workbook(template_file_path)\n",
    "ws = wb.active  \n",
    "\n",
    "for index, item in enumerate(data_list, start=1):  \n",
    "    ws[f'E{index}'].value = item\n",
    "\n",
    "for index, item in enumerate(low_boundary, start=1):  \n",
    "    ws[f'H{index}'].value = item\n",
    "\n",
    "for index, item in enumerate(high_boundary, start=1):  \n",
    "    ws[f'I{index}'].value = item\n",
    "\n",
    "output_file_path = \"../code/result/debug_{}_test_LSH_rm_threshold_{}.xlsx\".format(sample_number, _Threshold)\n",
    "\n",
    "wb.save(output_file_path)\n",
    "\n",
    "output_file_path_txt = \"../code/result/debug_{}_test_LSH_rm_threshold_{}\".format(sample_number, _Threshold)\n",
    "\n",
    "with open(output_file_path_txt, 'w', encoding='utf-8') as f:\n",
    "    for row in ws.iter_rows(values_only=True):\n",
    "        row_data = '\\t'.join(map(str, row))\n",
    "        f.write(row_data + '\\n')"
   ]
  },
  {
   "cell_type": "code",
   "execution_count": 13,
   "metadata": {},
   "outputs": [
    {
     "name": "stdout",
     "output_type": "stream",
     "text": [
      "Summary: 1000 reads, 956 mapped (95.60%)\n",
      "\n",
      "Comparing to reference PAF\n",
      "     P     N\n",
      "T  94.80  0.00\n",
      "F   0.80  4.40\n",
      "NA: 0.00\n",
      "\n",
      "Recall: 95.56\n",
      "\n",
      "Precision: 99.16\n",
      "\n",
      "F1: 97.33\n",
      "\n"
     ]
    }
   ],
   "source": [
    "# import argparse\n",
    "# from pafstats import run\n",
    "args = argparse.Namespace(\n",
    "    infile=output_file_path_txt,  \n",
    "    max_reads=read_number,  \n",
    "    ref_paf=\"../code/result_template/minimap2_sars2.paf\",\n",
    "    annotate=False\n",
    ")\n",
    "\n",
    "run(args)"
   ]
  }
 ],
 "metadata": {
  "kernelspec": {
   "display_name": "test_lsh_np",
   "language": "python",
   "name": "python3"
  },
  "language_info": {
   "codemirror_mode": {
    "name": "ipython",
    "version": 3
   },
   "file_extension": ".py",
   "mimetype": "text/x-python",
   "name": "python",
   "nbconvert_exporter": "python",
   "pygments_lexer": "ipython3",
   "version": "3.8.20"
  }
 },
 "nbformat": 4,
 "nbformat_minor": 2
}
