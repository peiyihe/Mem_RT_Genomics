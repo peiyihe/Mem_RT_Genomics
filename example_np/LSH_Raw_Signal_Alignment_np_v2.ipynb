{
 "cells": [
  {
   "cell_type": "markdown",
   "metadata": {},
   "source": [
    "v1 too slow, add for-loop in v2"
   ]
  },
  {
   "cell_type": "code",
   "execution_count": 1,
   "metadata": {},
   "outputs": [],
   "source": [
    "from ont_fast5_api.fast5_interface import get_fast5_file\n",
    "from tqdm import tqdm\n",
    "import matplotlib.pyplot as plt\n",
    "import pickle\n",
    "from uncalled4 import PoreModel, Config, EventDetector, SignalProcessor\n",
    "import numpy as np\n",
    "import pandas as pd\n",
    "\n",
    "import sys\n",
    "import os\n",
    "from pathlib import Path\n",
    "current_dir = Path(os.getcwd())\n",
    "parent_dir = current_dir.parent\n",
    "code_dir = parent_dir / \"code\"\n",
    "sys.path.append(str(code_dir))\n",
    "\n",
    "import sequence_to_signal\n",
    "import cam_search_np\n",
    "from cam_array_np import CAMArray\n",
    "from event_processor import EventProcessor, fast5_id_list\n",
    "from cam_process_np import process_sample_variation, process_sample\n",
    "from cam_process_np import update_position_variation, update_position\n",
    "from cam_process_np import process_location\n",
    "from openpyxl import load_workbook\n",
    "import argparse\n",
    "from pafstats import run, calculate"
   ]
  },
  {
   "cell_type": "markdown",
   "metadata": {},
   "source": [
    "Transfer nucleotide sequence to analog signal according to kmer model"
   ]
  },
  {
   "cell_type": "code",
   "execution_count": 2,
   "metadata": {},
   "outputs": [
    {
     "name": "stderr",
     "output_type": "stream",
     "text": [
      "Processing: 100%|██████████| 29898/29898 [00:00<00:00, 392201.41iteration/s]\n",
      "Processing: 100%|██████████| 29898/29898 [00:00<00:00, 397970.50iteration/s]"
     ]
    },
    {
     "name": "stdout",
     "output_type": "stream",
     "text": [
      "Number of zeros in the list: 28\n"
     ]
    },
    {
     "name": "stderr",
     "output_type": "stream",
     "text": [
      "\n"
     ]
    }
   ],
   "source": [
    "# Read the main sequence\n",
    "main_sequence_path = '../dataset/sarscov2.fna'\n",
    "main_sequences = sequence_to_signal.read_fasta(main_sequence_path)\n",
    "main_sequence_length = sequence_to_signal.get_sequence_length(main_sequence_path)\n",
    "\n",
    "# Read the complement sequence\n",
    "complement_sequence_path = '../dataset/sarscov2_complement_true.fna'\n",
    "complement_sequences = sequence_to_signal.read_fasta(complement_sequence_path)\n",
    "complement_sequence_length = sequence_to_signal.get_sequence_length(complement_sequence_path)\n",
    "\n",
    "# print(f\"Length of main sequence: {main_sequence_length}\")\n",
    "# print(f\"Length of complement sequence: {complement_sequence_length}\")\n",
    "\n",
    "# Define the model file path\n",
    "model_file_path = \"../dataset/kmer_model/template_median68pA.model\" #r94\n",
    "df = sequence_to_signal.load_data(model_file_path)\n",
    "\n",
    "# Retrieve k-mer means and standard deviations for the original reference sequence\n",
    "kmer_means_raw = sequence_to_signal.get_kmer_properties(main_sequences, df)\n",
    "kmer_means = sequence_to_signal.replace_continuous_signal(kmer_means_raw)\n",
    "\n",
    "# Retrieve k-mer means and standard deviations for the complement reference sequence\n",
    "kmer_means_comp_raw = sequence_to_signal.get_kmer_properties(complement_sequences, df)\n",
    "kmer_means_comp = sequence_to_signal.replace_continuous_signal(kmer_means_comp_raw)\n",
    "\n",
    "\n",
    "# print(f\"K-mer means for the original sequence: {kmer_means}, Standard deviation: {kmer_std}\")\n",
    "# print(f\"K-mer means for the complement sequence: {kmer_means_comp}, Standard deviation: {kmer_std_comp}\")\n",
    "zero_count = sequence_to_signal.count_zeros(kmer_means_comp)\n",
    "print(\"Number of zeros in the list:\", zero_count)"
   ]
  },
  {
   "cell_type": "markdown",
   "metadata": {},
   "source": [
    "Load Random RRAM array"
   ]
  },
  {
   "cell_type": "code",
   "execution_count": 3,
   "metadata": {},
   "outputs": [
    {
     "data": {
      "image/png": "[encoded data removed]",
      "text/plain": [
       "<Figure size 640x480 with 2 Axes>"
      ]
     },
     "metadata": {},
     "output_type": "display_data"
    }
   ],
   "source": [
    "loaded_conductance = np.load('../code/random_conductance/raw_conductance_simulation.npy')\n",
    "fig, ax = plt.subplots()\n",
    "cax = ax.imshow(loaded_conductance*1e6, cmap='viridis')  # 显示图像\n",
    "cbar = fig.colorbar(cax, ax=ax, fraction=0.033, pad=0.05)\n",
    "plt.show()\n",
    "\n",
    "flat_list = loaded_conductance.flatten().tolist()\n",
    "template= flat_list[0:2560]\n",
    "difference_list_raw = [template[i] - template[i + 1] for i in range(0, len(template) - 1, 2)]\n",
    "\n",
    "random_conductance = np.array(difference_list_raw).reshape(10, 128)\n",
    "random_matrix_np = np.asarray(random_conductance).astype(np.float32, copy=False)\n",
    "\n",
    "# fig, ax = plt.subplots()\n",
    "# cax = ax.imshow(random_conductance*1e6, cmap='viridis')\n",
    "# cbar = fig.colorbar(cax, ax=ax, fraction=0.033, pad=0.05)\n",
    "# plt.show()\n"
   ]
  },
  {
   "cell_type": "markdown",
   "metadata": {},
   "source": [
    "Use Random RRAM array to map the analog vector to binary vector; Store the binary vector in CAM Array"
   ]
  },
  {
   "cell_type": "code",
   "execution_count": 4,
   "metadata": {},
   "outputs": [
    {
     "name": "stdout",
     "output_type": "stream",
     "text": [
      "Reference Array Shape: (29888, 10)\n",
      "Reference Comp Array Shape: (29888, 10)\n",
      "Number of complete blocks: 74\n",
      "[[0 0 1 ... 1 0 0]\n",
      " [0 0 0 ... 0 1 1]\n",
      " [0 1 1 ... 0 1 1]\n",
      " ...\n",
      " [0 0 1 ... 1 1 0]\n",
      " [1 1 0 ... 0 1 0]\n",
      " [1 1 1 ... 0 1 0]]\n"
     ]
    }
   ],
   "source": [
    "col = 10\n",
    "LSH_col = 128\n",
    "k = 10\n",
    "sub_array_row = 400\n",
    "\n",
    "cam_processor = CAMArray(col=10, LSH_col=128, k=10, sub_array_row=400,\n",
    "                             kmer_level_means_shift=kmer_means,\n",
    "                             kmer_level_means_shift_comp=kmer_means_comp, random_matrix=random_conductance, device='cpu')\n",
    "cam_processor.initialize_matrices()\n",
    "ref_array_np, ref_array_comp_np = cam_processor.process_LSH()\n",
    "cam_processor.print_shapes()\n",
    "\n",
    "# Calculate number of blocks(sub_array)\n",
    "n_blocks = cam_processor.calculate_sub_arrays(ref_array_np)\n",
    "print(f\"Number of complete blocks: {n_blocks}\")\n",
    "\n",
    "def split_into_submatrices(matrix, row_split_size):\n",
    "    # Calculate the total number of submatrices\n",
    "    num_submatrices = matrix.shape[0] // row_split_size\n",
    "\n",
    "    # Split the matrix into submatrices\n",
    "    submatrices = [matrix[i * row_split_size:(i + 1) * row_split_size, :] for i in range(num_submatrices)]\n",
    "\n",
    "    # If there are remaining rows that do not fit into a full submatrix, add them as a final submatrix\n",
    "    if matrix.shape[0] % row_split_size != 0:\n",
    "        submatrices.append(matrix[num_submatrices * row_split_size:, :])\n",
    "\n",
    "    return submatrices\n",
    "sub_reference_array = split_into_submatrices(ref_array_np, sub_array_row)\n",
    "sub_reference_array_comp = split_into_submatrices(ref_array_comp_np, sub_array_row)\n",
    "print(sub_reference_array[50])"
   ]
  },
  {
   "cell_type": "markdown",
   "metadata": {},
   "source": [
    "generate events"
   ]
  },
  {
   "cell_type": "code",
   "execution_count": 5,
   "metadata": {},
   "outputs": [],
   "source": [
    "# Two parameter for event\n",
    "sp, sp1 = EventProcessor()\n",
    "#read read_id from list samples here\n",
    "fast5_file = \"../dataset/SP1-mapped500.fast5\"   \n",
    "read_id = fast5_id_list(fast5_file)"
   ]
  },
  {
   "cell_type": "code",
   "execution_count": null,
   "metadata": {},
   "outputs": [
    {
     "name": "stderr",
     "output_type": "stream",
     "text": [
      "100%|██████████| 100/100 [09:43<00:00,  5.84s/it]\n"
     ]
    }
   ],
   "source": [
    "position = []\n",
    "direction = []\n",
    "search_time = []\n",
    "vote_location = []\n",
    "\n",
    "\n",
    "# three parameter for process\n",
    "difference = [3, 3.5, 4]\n",
    "sample_number = 4000\n",
    "_Threshold = 7\n",
    "Threshold = _Threshold\n",
    "read_number = 100\n",
    "\n",
    "\n",
    "# for i in tqdm(range(73,74)):\n",
    "for i in tqdm(range(0,read_number)):\n",
    "    _read_id = read_id[i]\n",
    "    final_location, dir, _search_time, _votes = process_sample(sample_number, sp, _read_id, fast5_file, random_matrix_np, sub_reference_array, sub_reference_array_comp, col, Threshold, sub_array_row, n_blocks, difference)\n",
    "    \n",
    "    position.append(final_location)\n",
    "    direction.append(dir)\n",
    "    search_time.append(_search_time)\n",
    "    vote_location.append(_votes)"
   ]
  },
  {
   "cell_type": "code",
   "execution_count": 17,
   "metadata": {},
   "outputs": [
    {
     "name": "stdout",
     "output_type": "stream",
     "text": [
      "[24, 43, 39, 'N', 15, 30, 41, 'N', 62, 54, 14, 'N', 52, 'N', 33, 45, 65, 62, 12, 2, 2, 23, 51, 28, 16, 73, 56, 42, 30, 62, 46, 2, 'N', 57, 56, 47, 54, 62, 45, 45, 35, 66, 43, 30, 73, 56, 35, 69, 16, 26, 43, 2, 'N', 54, 35, 47, 'N', 'N', 14, 45, 27, 68, 'N', 7, 'N', 66, 33, 22, 51, 23, 2, 'N', 33, 17, 32, 32, 16, 14, 70, 35, 7, 'N', 8, 22, 7, 'N', 42, 55, 29, 29, 31, 22, 30, 22, 31, 8, 46, 45, 30, 54]\n",
      "['+', '-', '+', 'N', '-', '-', '+', 'N', '+', '-', '-', 'N', '+', 'N', '-', '+', '-', '-', '-', '-', '-', '-', '-', '-', '+', '+', '+', '+', '-', '-', '+', '-', 'N', '+', '-', '-', '+', '+', '+', '+', '+', '+', '-', '+', '-', '+', '+', '-', '-', '-', '-', '+', 'N', '-', '+', '-', 'N', 'N', '-', '+', '+', '+', 'N', '-', 'N', '-', '+', '+', '-', '-', '+', 'N', '-', '-', '+', '-', '+', '+', '-', '+', '-', 'N', '+', '-', '-', 'N', '+', '+', '-', '-', '+', '+', '-', '+', '-', '+', '+', '-', '-', '-']\n",
      "[417, 448, 424, 1343, 456, 466, 476, 1219, 425, 437, 499, 1230, 425, 1094, 780, 426, 416, 434, 832, 434, 463, 458, 421, 484, 412, 417, 432, 385, 424, 756, 434, 481, 1258, 1301, 874, 471, 888, 437, 469, 389, 449, 466, 450, 437, 444, 420, 454, 374, 458, 445, 1289, 421, 1385, 435, 433, 1332, 1236, 1286, 482, 406, 462, 432, 1463, 439, 1273, 811, 444, 438, 452, 435, 424, 1360, 445, 391, 393, 508, 467, 450, 434, 442, 445, 1200, 451, 457, 426, 733, 452, 445, 448, 427, 434, 853, 861, 431, 428, 442, 877, 445, 449, 425]\n",
      "[15, 21, 10, 'N', 16, 17, 20, 'N', 14, 15, 12, 'N', 22, 'N', 10, 22, 20, 6, 12, 14, 10, 13, 14, 14, 18, 18, 24, 8, 20, 6, 14, 14, 'N', 12, 18, 10, 8, 6, 16, 6, 16, 6, 13, 12, 23, 17, 14, 14, 7, 9, 9, 12, 'N', 20, 23, 6, 'N', 'N', 6, 23, 6, 21, 'N', 11, 'N', 11, 16, 14, 9, 18, 22, 'N', 14, 9, 8, 18, 19, 6, 16, 9, 13, 'N', 23, 23, 9, 'N', 13, 23, 29, 18, 27, 12, 29, 12, 24, 12, 12, 7, 21, 14]\n",
      "13\n"
     ]
    }
   ],
   "source": [
    "print(position)\n",
    "print(direction)\n",
    "print(search_time)\n",
    "print(vote_location)\n",
    "N_count = sum(1 for item in position if item == 'N')\n",
    "print(N_count)"
   ]
  },
  {
   "cell_type": "code",
   "execution_count": 18,
   "metadata": {},
   "outputs": [
    {
     "name": "stderr",
     "output_type": "stream",
     "text": [
      "  0%|          | 0/13 [00:00<?, ?it/s]"
     ]
    },
    {
     "name": "stderr",
     "output_type": "stream",
     "text": [
      "100%|██████████| 13/13 [01:12<00:00,  5.55s/it]\n"
     ]
    }
   ],
   "source": [
    "index = [i for i, x in enumerate(position) if x == 'N']\n",
    "update_position(sample_number, position, direction, search_time, vote_location, sp1, read_id, fast5_file, index, [4, 3], random_matrix_np, sub_reference_array, sub_reference_array_comp, col, Threshold, sub_array_row, n_blocks)"
   ]
  },
  {
   "cell_type": "code",
   "execution_count": 19,
   "metadata": {},
   "outputs": [
    {
     "name": "stdout",
     "output_type": "stream",
     "text": [
      "[24, 43, 39, 'N', 15, 30, 41, 'N', 62, 54, 14, 46, 52, 'N', 33, 45, 65, 62, 12, 2, 2, 23, 51, 28, 16, 73, 56, 42, 30, 62, 46, 2, 63, 57, 56, 47, 54, 62, 45, 45, 35, 66, 43, 30, 73, 56, 35, 69, 16, 26, 43, 2, 28, 54, 35, 47, 'N', 67, 14, 45, 27, 68, 'N', 7, 16, 66, 33, 22, 51, 23, 2, 'N', 33, 17, 32, 32, 16, 14, 70, 35, 7, 54, 8, 22, 7, 70, 42, 55, 29, 29, 31, 22, 30, 22, 31, 8, 46, 45, 30, 54]\n",
      "['+', '-', '+', 'N', '-', '-', '+', 'N', '+', '-', '-', '+', '+', 'N', '-', '+', '-', '-', '-', '-', '-', '-', '-', '-', '+', '+', '+', '+', '-', '-', '+', '-', '-', '+', '-', '-', '+', '+', '+', '+', '+', '+', '-', '+', '-', '+', '+', '-', '-', '-', '-', '+', '+', '-', '+', '-', 'N', '-', '-', '+', '+', '+', 'N', '-', '+', '-', '+', '+', '-', '-', '+', 'N', '-', '-', '+', '-', '+', '+', '-', '+', '-', '+', '+', '-', '-', '+', '+', '+', '-', '-', '+', '+', '-', '+', '-', '+', '+', '-', '-', '-']\n",
      "[417, 448, 424, 2082, 456, 466, 476, 1960, 425, 437, 499, 1997, 425, 1684, 780, 426, 416, 434, 832, 434, 463, 458, 421, 484, 412, 417, 432, 385, 424, 756, 434, 481, 1610, 1301, 874, 471, 888, 437, 469, 389, 449, 466, 450, 437, 444, 420, 454, 374, 458, 445, 1289, 421, 1763, 435, 433, 1332, 1895, 1643, 482, 406, 462, 432, 2230, 439, 1999, 811, 444, 438, 452, 435, 424, 2112, 445, 391, 393, 508, 467, 450, 434, 442, 445, 1923, 451, 457, 426, 953, 452, 445, 448, 427, 434, 853, 861, 431, 428, 442, 877, 445, 449, 425]\n",
      "[15, 21, 10, 'N', 16, 17, 20, 'N', 14, 15, 12, 10, 22, 'N', 10, 22, 20, 6, 12, 14, 10, 13, 14, 14, 18, 18, 24, 8, 20, 6, 14, 14, 7, 12, 18, 10, 8, 6, 16, 6, 16, 6, 13, 12, 23, 17, 14, 14, 7, 9, 9, 12, 14, 20, 23, 6, 'N', 7, 6, 23, 6, 21, 'N', 11, 7, 11, 16, 14, 9, 18, 22, 'N', 14, 9, 8, 18, 19, 6, 16, 9, 13, 9, 23, 23, 9, 12, 13, 23, 29, 18, 27, 12, 29, 12, 24, 12, 12, 7, 21, 14]\n",
      "6\n"
     ]
    }
   ],
   "source": [
    "print(position)\n",
    "print(direction)\n",
    "print(search_time)\n",
    "print(vote_location)\n",
    "N_count = sum(1 for item in position if item == 'N')\n",
    "print(N_count)"
   ]
  },
  {
   "cell_type": "code",
   "execution_count": 21,
   "metadata": {},
   "outputs": [
    {
     "name": "stdout",
     "output_type": "stream",
     "text": [
      "[8400, 15976, 14400, '*', 4764, 10773, 15116, '*', 23600, 20400, 4286, 17200, 19600, '*', 12000, 16800, 24800, 23600, 3600, 400, 388, 7979, 19200, 9937, 5200, 28000, 21200, 15600, 10800, 23600, 17200, 375, 23988, 21555, 21161, 17561, 20400, 23600, 16734, 16800, 12791, 25155, 15997, 10800, 28000, 21200, 12797, 26400, 5152, 9200, 15955, 400, 9898, 20400, 12800, 17534, '*', 25567, 4307, 16800, 9585, 26000, '*', 1600, 5200, 25200, 12000, 7600, 19200, 8000, 400, '*', 12000, 5600, 11600, 11477, 5152, 4385, 26800, 12800, 1594, 20400, 1979, 7540, 1600, 26800, 15561, 20800, 10400, 10400, 11200, 7600, 10800, 7600, 11200, 2000, 17200, 16755, 10800, 20400]\n",
      "[10800, 18424, 16800, '*', 7236, 13227, 17684, '*', 26000, 22800, 6914, 19600, 22000, '*', 14400, 19200, 27200, 26000, 6000, 2000, 2036, 10421, 21600, 12463, 7600, 30400, 23600, 18000, 13200, 26000, 19600, 2075, 26412, 24045, 23639, 20039, 22800, 26000, 19266, 19200, 15209, 27645, 18403, 13200, 30400, 23600, 15203, 28800, 7648, 11600, 18445, 2000, 12502, 22800, 15200, 20066, '*', 28033, 6893, 19200, 12015, 28400, '*', 4000, 7600, 27600, 14400, 10000, 21600, 10400, 2000, '*', 14400, 8000, 14000, 14123, 7648, 6815, 29200, 15200, 4006, 22800, 4421, 10060, 4000, 29200, 18039, 23200, 12800, 12800, 13600, 10000, 13200, 10000, 13600, 4400, 19600, 19245, 13200, 22800]\n",
      "['+', '-', '+', '*', '-', '-', '+', '*', '+', '-', '-', '+', '+', '*', '-', '+', '-', '-', '-', '-', '-', '-', '-', '-', '+', '+', '+', '+', '-', '-', '+', '-', '-', '+', '-', '-', '+', '+', '+', '+', '+', '+', '-', '+', '-', '+', '+', '-', '-', '-', '-', '+', '+', '-', '+', '-', '*', '-', '-', '+', '+', '+', '*', '-', '+', '-', '+', '+', '-', '-', '+', '*', '-', '-', '+', '-', '+', '+', '-', '+', '-', '+', '+', '-', '-', '+', '+', '+', '-', '-', '+', '+', '-', '+', '-', '+', '+', '-', '-', '-']\n"
     ]
    }
   ],
   "source": [
    "_position=position\n",
    "_direction=direction\n",
    "_direction = ['*' if x == 'N' else x for x in _direction]\n",
    "\n",
    "low_boundary=[]\n",
    "high_boundary=[]\n",
    "_position=np.array(_position)\n",
    "low_boundary,high_boundary= process_location(sample_number, sp, low_boundary, high_boundary, read_id, read_number, _position, fast5_file, sub_array_row)\n",
    "\n",
    "print(low_boundary)\n",
    "print(high_boundary)\n",
    "print(_direction)\n",
    "\n"
   ]
  },
  {
   "cell_type": "code",
   "execution_count": 22,
   "metadata": {},
   "outputs": [],
   "source": [
    "data_list = _direction\n",
    "\n",
    "template_file_path = '../code/result_template/test_SP1_500_template.xlsx'\n",
    "# template_file_path = 'result_template/test_LSH_v2.xlsx'\n",
    "\n",
    "wb = load_workbook(template_file_path)\n",
    "ws = wb.active  \n",
    "\n",
    "for index, item in enumerate(data_list, start=1):  \n",
    "    ws[f'E{index}'].value = item\n",
    "\n",
    "for index, item in enumerate(low_boundary, start=1):  \n",
    "    ws[f'H{index}'].value = item\n",
    "\n",
    "for index, item in enumerate(high_boundary, start=1):  \n",
    "    ws[f'I{index}'].value = item\n",
    "\n",
    "output_file_path = \"../code/result/debug_{}_test_LSH_rm_threshold_{}.xlsx\".format(sample_number, _Threshold)\n",
    "\n",
    "wb.save(output_file_path)\n",
    "\n",
    "output_file_path_txt = \"../code/result/debug_{}_test_LSH_rm_threshold_{}\".format(sample_number, _Threshold)\n",
    "\n",
    "with open(output_file_path_txt, 'w', encoding='utf-8') as f:\n",
    "    for row in ws.iter_rows(values_only=True):\n",
    "        row_data = '\\t'.join(map(str, row))\n",
    "        f.write(row_data + '\\n')"
   ]
  },
  {
   "cell_type": "code",
   "execution_count": 24,
   "metadata": {},
   "outputs": [
    {
     "name": "stdout",
     "output_type": "stream",
     "text": [
      "Summary: 100 reads, 94 mapped (94.00%)\n",
      "\n",
      "Comparing to reference PAF\n",
      "     P     N\n",
      "T  93.00  0.00\n",
      "F   1.00  6.00\n",
      "NA: 0.00\n",
      "\n",
      "Recall: 93.94\n",
      "\n",
      "Precision: 98.94\n",
      "\n",
      "F1: 96.37\n",
      "\n"
     ]
    }
   ],
   "source": [
    "# import argparse\n",
    "# from pafstats import run\n",
    "args = argparse.Namespace(\n",
    "    infile=output_file_path_txt,  \n",
    "    max_reads=read_number,  \n",
    "    ref_paf=\"../code/result_template/minimap2_sars2.paf\",\n",
    "    annotate=False\n",
    ")\n",
    "\n",
    "run(args)"
   ]
  }
 ],
 "metadata": {
  "kernelspec": {
   "display_name": "test_lsh",
   "language": "python",
   "name": "python3"
  },
  "language_info": {
   "codemirror_mode": {
    "name": "ipython",
    "version": 3
   },
   "file_extension": ".py",
   "mimetype": "text/x-python",
   "name": "python",
   "nbconvert_exporter": "python",
   "pygments_lexer": "ipython3",
   "version": "3.8.20"
  }
 },
 "nbformat": 4,
 "nbformat_minor": 2
}
